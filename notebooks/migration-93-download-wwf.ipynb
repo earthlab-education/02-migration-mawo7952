{
  "cells": [
    {
      "cell_type": "markdown",
      "id": "a9ee0085-14be-4448-8356-ad77939f79e6",
      "metadata": {},
      "source": [
        "# Migration Data Download\n",
        "\n",
        "Get occurrence data from the Global Biodiversity Information Facility\n",
        "(GBIF)\n",
        "\n",
        "## STEP 0: Set up\n",
        "\n",
        "To get started on this notebook, you’ll need to restore any variables\n",
        "from previous notebooks to your workspace. To save time and memory, make\n",
        "sure to specify which variables you want to load."
      ]
    },
    {
      "cell_type": "code",
      "execution_count": 1,
      "id": "300a60b6",
      "metadata": {},
      "outputs": [],
      "source": [
        "%store -r gbif_gdf"
      ]
    },
    {
      "cell_type": "code",
      "execution_count": 21,
      "id": "3c22430c",
      "metadata": {},
      "outputs": [],
      "source": [
        "import json\n",
        "import requests\n",
        "import geopandas as gpd\n",
        "from io import BytesIO"
      ]
    },
    {
      "cell_type": "code",
      "execution_count": 2,
      "id": "919bc93a",
      "metadata": {
        "template": "answer"
      },
      "outputs": [
        {
          "data": {
            "image/svg+xml": [
              "<svg xmlns=\"http://www.w3.org/2000/svg\" xmlns:xlink=\"http://www.w3.org/1999/xlink\" width=\"100.0\" height=\"100.0\" viewBox=\"-131.02436976 -25.668994759999997 95.38154352000001 84.91599252\" preserveAspectRatio=\"xMinYMin meet\"><g transform=\"matrix(1,0,0,-1,0,33.578003)\"><path fill-rule=\"evenodd\" fill=\"#66cc99\" stroke=\"#555555\" stroke-width=\"1.9076308704000002\" opacity=\"0.6\" d=\"M -127.49172,-22.136345 L -39.175476,-22.136345 L -39.175476,55.714348 L -127.49172,55.714348 L -127.49172,-22.136345 z\" /></g></svg>"
            ],
            "text/plain": [
              "<POLYGON ((-127.492 -22.136, -39.175 -22.136, -39.175 55.714, -127.492 55.71...>"
            ]
          },
          "execution_count": 2,
          "metadata": {},
          "output_type": "execute_result"
        }
      ],
      "source": [
        "# Merge the GBIF observations into a single geometry\n",
        "gbif_union = gbif_gdf.geometry.union_all().envelope\n",
        "gbif_union"
      ]
    },
    {
      "cell_type": "code",
      "execution_count": 25,
      "id": "97041391",
      "metadata": {},
      "outputs": [],
      "source": [
        "gbif_union_simplified = gbif_union.simplify(0.5, preserve_topology=True)\n",
        "gbif_geojson = gbif_union_simplified.__geo_interface__\n",
        "arcgis_geom = json.dumps(dict(\n",
        "    rings=gbif_geojson[\"coordinates\"],\n",
        "    spatialReference={\"wkid\": 4326}\n",
        "))"
      ]
    },
    {
      "cell_type": "markdown",
      "id": "dedab96c-32c4-4404-b2cb-bb2da4560e6d",
      "metadata": {},
      "source": [
        "<link rel=\"stylesheet\" type=\"text/css\" href=\"./assets/styles.css\"><div class=\"callout callout-style-default callout-titled callout-task\"><div class=\"callout-header\"><div class=\"callout-icon-container\"><i class=\"callout-icon\"></i></div><div class=\"callout-title-container flex-fill\">Try It</div></div><div class=\"callout-body-container callout-body\"><p>Run the code below, which converts your Polygon to a special type of\n",
        "GeoJSON needed for compatibility with the ArcGIS Feature Service. Check\n",
        "out and explore this data structure. How would you extract the\n",
        "geographic coordinates?</p></div></div>"
      ]
    },
    {
      "cell_type": "code",
      "execution_count": 14,
      "id": "aa05ac30",
      "metadata": {
        "template": "student"
      },
      "outputs": [
        {
          "data": {
            "text/plain": [
              "{'type': 'Polygon',\n",
              " 'coordinates': (((-127.49172, -22.136345),\n",
              "   (-39.175476, -22.136345),\n",
              "   (-39.175476, 55.714348),\n",
              "   (-127.49172, 55.714348),\n",
              "   (-127.49172, -22.136345)),)}"
            ]
          },
          "execution_count": 14,
          "metadata": {},
          "output_type": "execute_result"
        }
      ],
      "source": [
        "# Convert geometry to geoJSON\n",
        "gbif_geojson = gbif_union.__geo_interface__\n",
        "\n",
        "gbif_geojson"
      ]
    },
    {
      "cell_type": "code",
      "execution_count": 24,
      "id": "9446b368",
      "metadata": {
        "template": "answer"
      },
      "outputs": [
        {
          "data": {
            "text/plain": [
              "{'type': 'Polygon',\n",
              " 'coordinates': (((-127.49172, -22.136345),\n",
              "   (-39.175476, -22.136345),\n",
              "   (-39.175476, 55.714348),\n",
              "   (-127.49172, 55.714348),\n",
              "   (-127.49172, -22.136345)),)}"
            ]
          },
          "execution_count": 24,
          "metadata": {},
          "output_type": "execute_result"
        }
      ],
      "source": [
        "# Convert geometry to geoJSON\n",
        "gbif_geojson = gbif_union.__geo_interface__\n",
        "\n",
        "gbif_geojson"
      ]
    },
    {
      "cell_type": "markdown",
      "id": "7422cc46-c7e1-400d-88a8-1107fa0a8002",
      "metadata": {},
      "source": [
        "<link rel=\"stylesheet\" type=\"text/css\" href=\"./assets/styles.css\"><div class=\"callout callout-style-default callout-titled callout-respond\"><div class=\"callout-header\"><div class=\"callout-icon-container\"><i class=\"callout-icon\"></i></div><div class=\"callout-title-container flex-fill\">Reflect and Respond</div></div><div class=\"callout-body-container callout-body\"><p>What type of Python object is this geoJSON? How will you get the\n",
        "geographic coordinates only?</p></div></div>\n",
        "\n",
        "<link rel=\"stylesheet\" type=\"text/css\" href=\"./assets/styles.css\"><div class=\"callout callout-style-default callout-titled callout-task\"><div class=\"callout-header\"><div class=\"callout-icon-container\"><i class=\"callout-icon\"></i></div><div class=\"callout-title-container flex-fill\">Try It</div></div><div class=\"callout-body-container callout-body\"><ol type=\"1\">\n",
        "<li>Replace <code>feature-key</code> with the coordinate key you noted\n",
        "above.</li>\n",
        "<li>Replace CRS with the CRS of your GBIF download. It should be\n",
        "formatted as a 4-digit number, e.g. if the CRS is EPSG:1234, you should\n",
        "put <code>1234</code> into Python.</li>\n",
        "</ol></div></div>"
      ]
    },
    {
      "cell_type": "code",
      "execution_count": 19,
      "id": "bb285955",
      "metadata": {},
      "outputs": [
        {
          "data": {
            "text/plain": [
              "<Geographic 2D CRS: EPSG:4326>\n",
              "Name: WGS 84\n",
              "Axis Info [ellipsoidal]:\n",
              "- Lat[north]: Geodetic latitude (degree)\n",
              "- Lon[east]: Geodetic longitude (degree)\n",
              "Area of Use:\n",
              "- name: World.\n",
              "- bounds: (-180.0, -90.0, 180.0, 90.0)\n",
              "Datum: World Geodetic System 1984 ensemble\n",
              "- Ellipsoid: WGS 84\n",
              "- Prime Meridian: Greenwich"
            ]
          },
          "execution_count": 19,
          "metadata": {},
          "output_type": "execute_result"
        }
      ],
      "source": [
        "gbif_gdf.crs\n",
        "\n",
        "#gbif_geojson.keys()\n"
      ]
    },
    {
      "cell_type": "code",
      "execution_count": 15,
      "id": "a1f69ef2",
      "metadata": {
        "template": "student"
      },
      "outputs": [],
      "source": [
        "# Construct ArcGIS-compatible JSON\n",
        "arcgis_geom = json.dumps(dict(\n",
        "    rings=gbif_geojson[\"coordinates\"],\n",
        "    spatialReference={\"wkid\": 4326}\n",
        "))"
      ]
    },
    {
      "cell_type": "markdown",
      "id": "282ba5fd-f300-4726-8a85-ad1342f27f60",
      "metadata": {},
      "source": [
        "### STEP 2: Download data from the ArcGIS FeatureService"
      ]
    },
    {
      "cell_type": "code",
      "execution_count": null,
      "id": "fa201781",
      "metadata": {
        "template": "answer"
      },
      "outputs": [],
      "source": [
        "# Prepare API request\n",
        "eco_url = (\n",
        "    \"https://services5.arcgis.com/0AFsQflykfA9lXZn\"\n",
        "    \"/ArcGIS/rest/services\"\n",
        "    \"/WWF_Terrestrial_Ecoregions_Of_The_World_official_teow\"\n",
        "    \"/FeatureServer/0/query\")\n",
        "eco_params = {\n",
        "    \"f\": \"geojson\",\n",
        "    \"where\": \"1=1\",\n",
        "    \"outFields\": \"eco_code,area_km2\",\n",
        "    \"returnGeometry\": \"true\",\n",
        "    # Return polygons containing any GBIF observation\n",
        "    \"spatialRel\": \"esriSpatialRelIntersects\",  \n",
        "    \"geometryType\": \"esriGeometryPolygon\",\n",
        "    # Override web Mercator server default\n",
        "    \"inSR\": \"4326\",\n",
        "    \"outSR\": \"4326\",\n",
        "    # Must format geometry\n",
        "    \"geometry\": arcgis_geom\n",
        "}\n",
        "\n",
        "# Submit API request\n",
        "eco_resp = requests.get(\n",
        "    eco_url, params=eco_params,\n",
        "    headers={\"Accept-Encoding\": \"identity\"})\n",
        "eco_resp.raise_for_status()\n",
        "\n",
        "# Load binary data to DataFrame\n",
        "eco_gdf = gpd.read_file(BytesIO(eco_resp.content))\n",
        "\n",
        "# Check the download\n",
        "eco_gdf.head()"
      ]
    },
    {
      "cell_type": "markdown",
      "id": "bc8235d0-987f-4e29-ab0d-65ed256b72c6",
      "metadata": {},
      "source": [
        "<link rel=\"stylesheet\" type=\"text/css\" href=\"./assets/styles.css\"><div class=\"callout callout-style-default callout-titled callout-task\"><div class=\"callout-header\"><div class=\"callout-icon-container\"><i class=\"callout-icon\"></i></div><div class=\"callout-title-container flex-fill\">Try It</div></div><div class=\"callout-body-container callout-body\"><p>Now, make a quick plot of your download to make sure that it worked\n",
        "correctly.</p></div></div>"
      ]
    },
    {
      "cell_type": "code",
      "execution_count": 11,
      "id": "fc6675e0",
      "metadata": {
        "template": "answer"
      },
      "outputs": [],
      "source": [
        "# Plot the ecoregion data\n",
        "eco_gdf.plot()"
      ]
    },
    {
      "cell_type": "markdown",
      "id": "00ebd6d5-dda0-41e0-98cf-c9b7ad37ee30",
      "metadata": {},
      "source": [
        "### STEP 3 (Optional): Save your data\n",
        "\n",
        "<link rel=\"stylesheet\" type=\"text/css\" href=\"./assets/styles.css\"><div class=\"callout callout-style-default callout-titled callout-task\"><div class=\"callout-header\"><div class=\"callout-icon-container\"><i class=\"callout-icon\"></i></div><div class=\"callout-title-container flex-fill\">Try It</div></div><div class=\"callout-body-container callout-body\"><ol type=\"1\">\n",
        "<li>Create a new directory in your data directory for the ecoregions\n",
        "data.</li>\n",
        "<li>Define a path to a Shapefile where you will save the ecoregions\n",
        "data.</li>\n",
        "<li>Save the ecoregions to the file.</li>\n",
        "</ol></div></div>"
      ]
    },
    {
      "cell_type": "code",
      "execution_count": 13,
      "id": "2cdfe1ac",
      "metadata": {
        "template": "answer"
      },
      "outputs": [],
      "source": [
        "# Save the ecoregion data\n",
        "eco_dir = project.project_dir / 'ecoregions'\n",
        "eco_dir.mkdir(exist_ok=True)\n",
        "eco_path = eco_dir / 'ecoregions.shp'\n",
        "eco_gdf.to_file(eco_path)"
      ]
    },
    {
      "cell_type": "code",
      "execution_count": 30,
      "id": "bb8f3fd5",
      "metadata": {},
      "outputs": [
        {
          "name": "stdout",
          "output_type": "stream",
          "text": [
            "Stored 'ecoregions_gdf' (GeoDataFrame)\n"
          ]
        }
      ],
      "source": [
        "%store ecoregions_gdf"
      ]
    }
  ],
  "metadata": {
    "kernelspec": {
      "display_name": "earth-analytics-python",
      "language": "python",
      "name": "python3"
    },
    "language_info": {
      "codemirror_mode": {
        "name": "ipython",
        "version": 3
      },
      "file_extension": ".py",
      "mimetype": "text/x-python",
      "name": "python",
      "nbconvert_exporter": "python",
      "pygments_lexer": "ipython3",
      "version": "3.11.13"
    }
  },
  "nbformat": 4,
  "nbformat_minor": 5
}
