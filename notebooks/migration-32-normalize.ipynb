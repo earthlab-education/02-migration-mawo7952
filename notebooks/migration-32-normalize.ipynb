{
  "cells": [
    {
      "cell_type": "markdown",
      "id": "683f1a9b-7b2a-4348-a6df-7a02fb5336ad",
      "metadata": {},
      "source": [
        "# Mapping migration\n",
        "\n",
        "Introduction to vector data operations\n",
        "\n",
        "## STEP 0: Set up\n",
        "\n",
        "To get started on this notebook, you’ll need to restore any variables\n",
        "from previous notebooks to your workspace. To save time and memory, make\n",
        "sure to specify which variables you want to load."
      ]
    },
    {
      "cell_type": "code",
      "execution_count": 1,
      "id": "654dde1d",
      "metadata": {},
      "outputs": [],
      "source": [
        "%store -r ecoregions_gdf gbif_gdf"
      ]
    },
    {
      "cell_type": "markdown",
      "id": "22b3e08d-7cb7-4e6e-9ef3-08e5535a3ddd",
      "metadata": {},
      "source": [
        ":::\n",
        "\n",
        "### Identify the ecoregion for each observation\n",
        "\n",
        "You can combine the ecoregions and the observations **spatially** using\n",
        "a method called `.sjoin()`, which stands for spatial join.\n",
        "\n",
        "<link rel=\"stylesheet\" type=\"text/css\" href=\"./assets/styles.css\"><div class=\"callout callout-style-default callout-titled callout-read\"><div class=\"callout-header\"><div class=\"callout-icon-container\"><i class=\"callout-icon\"></i></div><div class=\"callout-title-container flex-fill\">Read More</div></div><div class=\"callout-body-container callout-body\"><p>Check out the <a\n",
        "href=\"https://geopandas.org/en/stable/docs/user_guide/mergingdata.html#spatial-joins\"><code>geopandas</code>\n",
        "documentation on spatial joins</a> to help you figure this one out. You\n",
        "can also ask your favorite LLM (Large-Language Model, like ChatGPT)</p></div></div>\n",
        "\n",
        "<link rel=\"stylesheet\" type=\"text/css\" href=\"./assets/styles.css\"><div class=\"callout callout-style-default callout-titled callout-task\"><div class=\"callout-header\"><div class=\"callout-icon-container\"><i class=\"callout-icon\"></i></div><div class=\"callout-title-container flex-fill\">Try It: Perform a spatial join</div></div><div class=\"callout-body-container callout-body\"><p>Identify the correct values for the <code>how=</code> and\n",
        "<code>predicate=</code> parameters of the spatial join.</p></div></div>"
      ]
    },
    {
      "cell_type": "code",
      "execution_count": 2,
      "id": "1e595620",
      "metadata": {},
      "outputs": [],
      "source": [
        "# Packages\n",
        "import geopandas\n",
        "import pandas as pd"
      ]
    },
    {
      "cell_type": "code",
      "execution_count": 3,
      "id": "ba659b67",
      "metadata": {},
      "outputs": [
        {
          "data": {
            "text/html": [
              "<div>\n",
              "<style scoped>\n",
              "    .dataframe tbody tr th:only-of-type {\n",
              "        vertical-align: middle;\n",
              "    }\n",
              "\n",
              "    .dataframe tbody tr th {\n",
              "        vertical-align: top;\n",
              "    }\n",
              "\n",
              "    .dataframe thead th {\n",
              "        text-align: right;\n",
              "    }\n",
              "</style>\n",
              "<table border=\"1\" class=\"dataframe\">\n",
              "  <thead>\n",
              "    <tr style=\"text-align: right;\">\n",
              "      <th></th>\n",
              "      <th>name</th>\n",
              "      <th>area</th>\n",
              "      <th>geometry</th>\n",
              "    </tr>\n",
              "    <tr>\n",
              "      <th>ecoregionID</th>\n",
              "      <th></th>\n",
              "      <th></th>\n",
              "      <th></th>\n",
              "    </tr>\n",
              "  </thead>\n",
              "  <tbody>\n",
              "    <tr>\n",
              "      <th>1.0</th>\n",
              "      <td>Adelie Land tundra</td>\n",
              "      <td>0.038948</td>\n",
              "      <td>MULTIPOLYGON (((158.7141 -69.60657, 158.71264 ...</td>\n",
              "    </tr>\n",
              "    <tr>\n",
              "      <th>2.0</th>\n",
              "      <td>Admiralty Islands lowland rain forests</td>\n",
              "      <td>0.170599</td>\n",
              "      <td>MULTIPOLYGON (((147.28819 -2.57589, 147.2715 -...</td>\n",
              "    </tr>\n",
              "    <tr>\n",
              "      <th>3.0</th>\n",
              "      <td>Aegean and Western Turkey sclerophyllous and m...</td>\n",
              "      <td>13.844952</td>\n",
              "      <td>MULTIPOLYGON (((26.88659 35.32161, 26.88297 35...</td>\n",
              "    </tr>\n",
              "    <tr>\n",
              "      <th>4.0</th>\n",
              "      <td>Afghan Mountains semi-desert</td>\n",
              "      <td>1.355536</td>\n",
              "      <td>MULTIPOLYGON (((65.48655 34.71401, 65.52872 34...</td>\n",
              "    </tr>\n",
              "    <tr>\n",
              "      <th>5.0</th>\n",
              "      <td>Ahklun and Kilbuck Upland Tundra</td>\n",
              "      <td>8.196573</td>\n",
              "      <td>MULTIPOLYGON (((-160.26404 58.64097, -160.2673...</td>\n",
              "    </tr>\n",
              "    <tr>\n",
              "      <th>...</th>\n",
              "      <td>...</td>\n",
              "      <td>...</td>\n",
              "      <td>...</td>\n",
              "    </tr>\n",
              "    <tr>\n",
              "      <th>848.0</th>\n",
              "      <td>Sulawesi lowland rain forests</td>\n",
              "      <td>9.422097</td>\n",
              "      <td>MULTIPOLYGON (((117.33111 -7.53306, 117.30525 ...</td>\n",
              "    </tr>\n",
              "    <tr>\n",
              "      <th>212.0</th>\n",
              "      <td>East African montane forests</td>\n",
              "      <td>5.010930</td>\n",
              "      <td>MULTIPOLYGON (((36.7375 -3.13, 36.7375 -3.1316...</td>\n",
              "    </tr>\n",
              "    <tr>\n",
              "      <th>224.0</th>\n",
              "      <td>Eastern Arc forests</td>\n",
              "      <td>0.890325</td>\n",
              "      <td>MULTIPOLYGON (((36.38 -8.96583, 36.38 -8.96667...</td>\n",
              "    </tr>\n",
              "    <tr>\n",
              "      <th>79.0</th>\n",
              "      <td>Borneo montane rain forests</td>\n",
              "      <td>9.358407</td>\n",
              "      <td>MULTIPOLYGON (((112.82394 -0.5066, 112.82298 -...</td>\n",
              "    </tr>\n",
              "    <tr>\n",
              "      <th>376.0</th>\n",
              "      <td>Kinabalu montane alpine meadows</td>\n",
              "      <td>0.352694</td>\n",
              "      <td>MULTIPOLYGON (((116.52616 6.11011, 116.52734 6...</td>\n",
              "    </tr>\n",
              "  </tbody>\n",
              "</table>\n",
              "<p>847 rows × 3 columns</p>\n",
              "</div>"
            ],
            "text/plain": [
              "                                                          name       area  \\\n",
              "ecoregionID                                                                 \n",
              "1.0                                         Adelie Land tundra   0.038948   \n",
              "2.0                     Admiralty Islands lowland rain forests   0.170599   \n",
              "3.0          Aegean and Western Turkey sclerophyllous and m...  13.844952   \n",
              "4.0                               Afghan Mountains semi-desert   1.355536   \n",
              "5.0                           Ahklun and Kilbuck Upland Tundra   8.196573   \n",
              "...                                                        ...        ...   \n",
              "848.0                            Sulawesi lowland rain forests   9.422097   \n",
              "212.0                             East African montane forests   5.010930   \n",
              "224.0                                      Eastern Arc forests   0.890325   \n",
              "79.0                               Borneo montane rain forests   9.358407   \n",
              "376.0                          Kinabalu montane alpine meadows   0.352694   \n",
              "\n",
              "                                                      geometry  \n",
              "ecoregionID                                                     \n",
              "1.0          MULTIPOLYGON (((158.7141 -69.60657, 158.71264 ...  \n",
              "2.0          MULTIPOLYGON (((147.28819 -2.57589, 147.2715 -...  \n",
              "3.0          MULTIPOLYGON (((26.88659 35.32161, 26.88297 35...  \n",
              "4.0          MULTIPOLYGON (((65.48655 34.71401, 65.52872 34...  \n",
              "5.0          MULTIPOLYGON (((-160.26404 58.64097, -160.2673...  \n",
              "...                                                        ...  \n",
              "848.0        MULTIPOLYGON (((117.33111 -7.53306, 117.30525 ...  \n",
              "212.0        MULTIPOLYGON (((36.7375 -3.13, 36.7375 -3.1316...  \n",
              "224.0        MULTIPOLYGON (((36.38 -8.96583, 36.38 -8.96667...  \n",
              "79.0         MULTIPOLYGON (((112.82394 -0.5066, 112.82298 -...  \n",
              "376.0        MULTIPOLYGON (((116.52616 6.11011, 116.52734 6...  \n",
              "\n",
              "[847 rows x 3 columns]"
            ]
          },
          "execution_count": 3,
          "metadata": {},
          "output_type": "execute_result"
        }
      ],
      "source": [
        "ecoregions_gdf"
      ]
    },
    {
      "cell_type": "code",
      "execution_count": 4,
      "id": "cf80a6bc",
      "metadata": {
        "template": "student"
      },
      "outputs": [
        {
          "data": {
            "text/html": [
              "<div>\n",
              "<style scoped>\n",
              "    .dataframe tbody tr th:only-of-type {\n",
              "        vertical-align: middle;\n",
              "    }\n",
              "\n",
              "    .dataframe tbody tr th {\n",
              "        vertical-align: top;\n",
              "    }\n",
              "\n",
              "    .dataframe thead th {\n",
              "        text-align: right;\n",
              "    }\n",
              "</style>\n",
              "<table border=\"1\" class=\"dataframe\">\n",
              "  <thead>\n",
              "    <tr style=\"text-align: right;\">\n",
              "      <th></th>\n",
              "      <th>name</th>\n",
              "      <th>area</th>\n",
              "      <th>geometry</th>\n",
              "      <th>gbifID</th>\n",
              "      <th>month</th>\n",
              "    </tr>\n",
              "    <tr>\n",
              "      <th>ecoregionID</th>\n",
              "      <th></th>\n",
              "      <th></th>\n",
              "      <th></th>\n",
              "      <th></th>\n",
              "      <th></th>\n",
              "    </tr>\n",
              "  </thead>\n",
              "  <tbody>\n",
              "    <tr>\n",
              "      <th>13.0</th>\n",
              "      <td>Alberta-British Columbia foothills forests</td>\n",
              "      <td>17.133639</td>\n",
              "      <td>MULTIPOLYGON (((-119.53979 55.81661, -119.5443...</td>\n",
              "      <td>4743927038</td>\n",
              "      <td>5</td>\n",
              "    </tr>\n",
              "    <tr>\n",
              "      <th>13.0</th>\n",
              "      <td>Alberta-British Columbia foothills forests</td>\n",
              "      <td>17.133639</td>\n",
              "      <td>MULTIPOLYGON (((-119.53979 55.81661, -119.5443...</td>\n",
              "      <td>4621947377</td>\n",
              "      <td>5</td>\n",
              "    </tr>\n",
              "    <tr>\n",
              "      <th>13.0</th>\n",
              "      <td>Alberta-British Columbia foothills forests</td>\n",
              "      <td>17.133639</td>\n",
              "      <td>MULTIPOLYGON (((-119.53979 55.81661, -119.5443...</td>\n",
              "      <td>4761090115</td>\n",
              "      <td>6</td>\n",
              "    </tr>\n",
              "    <tr>\n",
              "      <th>13.0</th>\n",
              "      <td>Alberta-British Columbia foothills forests</td>\n",
              "      <td>17.133639</td>\n",
              "      <td>MULTIPOLYGON (((-119.53979 55.81661, -119.5443...</td>\n",
              "      <td>5536938630</td>\n",
              "      <td>7</td>\n",
              "    </tr>\n",
              "    <tr>\n",
              "      <th>13.0</th>\n",
              "      <td>Alberta-British Columbia foothills forests</td>\n",
              "      <td>17.133639</td>\n",
              "      <td>MULTIPOLYGON (((-119.53979 55.81661, -119.5443...</td>\n",
              "      <td>4630693711</td>\n",
              "      <td>6</td>\n",
              "    </tr>\n",
              "    <tr>\n",
              "      <th>...</th>\n",
              "      <td>...</td>\n",
              "      <td>...</td>\n",
              "      <td>...</td>\n",
              "      <td>...</td>\n",
              "      <td>...</td>\n",
              "    </tr>\n",
              "    <tr>\n",
              "      <th>845.0</th>\n",
              "      <td>North Atlantic moist mixed forests</td>\n",
              "      <td>5.586107</td>\n",
              "      <td>MULTIPOLYGON (((-9.09602 52.60926, -9.07859 52...</td>\n",
              "      <td>4799252645</td>\n",
              "      <td>9</td>\n",
              "    </tr>\n",
              "    <tr>\n",
              "      <th>845.0</th>\n",
              "      <td>North Atlantic moist mixed forests</td>\n",
              "      <td>5.586107</td>\n",
              "      <td>MULTIPOLYGON (((-9.09602 52.60926, -9.07859 52...</td>\n",
              "      <td>5447144262</td>\n",
              "      <td>10</td>\n",
              "    </tr>\n",
              "    <tr>\n",
              "      <th>845.0</th>\n",
              "      <td>North Atlantic moist mixed forests</td>\n",
              "      <td>5.586107</td>\n",
              "      <td>MULTIPOLYGON (((-9.09602 52.60926, -9.07859 52...</td>\n",
              "      <td>4775896521</td>\n",
              "      <td>10</td>\n",
              "    </tr>\n",
              "    <tr>\n",
              "      <th>845.0</th>\n",
              "      <td>North Atlantic moist mixed forests</td>\n",
              "      <td>5.586107</td>\n",
              "      <td>MULTIPOLYGON (((-9.09602 52.60926, -9.07859 52...</td>\n",
              "      <td>4842342665</td>\n",
              "      <td>9</td>\n",
              "    </tr>\n",
              "    <tr>\n",
              "      <th>845.0</th>\n",
              "      <td>North Atlantic moist mixed forests</td>\n",
              "      <td>5.586107</td>\n",
              "      <td>MULTIPOLYGON (((-9.09602 52.60926, -9.07859 52...</td>\n",
              "      <td>5006750152</td>\n",
              "      <td>9</td>\n",
              "    </tr>\n",
              "  </tbody>\n",
              "</table>\n",
              "<p>162348 rows × 5 columns</p>\n",
              "</div>"
            ],
            "text/plain": [
              "                                                   name       area  \\\n",
              "ecoregionID                                                          \n",
              "13.0         Alberta-British Columbia foothills forests  17.133639   \n",
              "13.0         Alberta-British Columbia foothills forests  17.133639   \n",
              "13.0         Alberta-British Columbia foothills forests  17.133639   \n",
              "13.0         Alberta-British Columbia foothills forests  17.133639   \n",
              "13.0         Alberta-British Columbia foothills forests  17.133639   \n",
              "...                                                 ...        ...   \n",
              "845.0                North Atlantic moist mixed forests   5.586107   \n",
              "845.0                North Atlantic moist mixed forests   5.586107   \n",
              "845.0                North Atlantic moist mixed forests   5.586107   \n",
              "845.0                North Atlantic moist mixed forests   5.586107   \n",
              "845.0                North Atlantic moist mixed forests   5.586107   \n",
              "\n",
              "                                                      geometry      gbifID  \\\n",
              "ecoregionID                                                                  \n",
              "13.0         MULTIPOLYGON (((-119.53979 55.81661, -119.5443...  4743927038   \n",
              "13.0         MULTIPOLYGON (((-119.53979 55.81661, -119.5443...  4621947377   \n",
              "13.0         MULTIPOLYGON (((-119.53979 55.81661, -119.5443...  4761090115   \n",
              "13.0         MULTIPOLYGON (((-119.53979 55.81661, -119.5443...  5536938630   \n",
              "13.0         MULTIPOLYGON (((-119.53979 55.81661, -119.5443...  4630693711   \n",
              "...                                                        ...         ...   \n",
              "845.0        MULTIPOLYGON (((-9.09602 52.60926, -9.07859 52...  4799252645   \n",
              "845.0        MULTIPOLYGON (((-9.09602 52.60926, -9.07859 52...  5447144262   \n",
              "845.0        MULTIPOLYGON (((-9.09602 52.60926, -9.07859 52...  4775896521   \n",
              "845.0        MULTIPOLYGON (((-9.09602 52.60926, -9.07859 52...  4842342665   \n",
              "845.0        MULTIPOLYGON (((-9.09602 52.60926, -9.07859 52...  5006750152   \n",
              "\n",
              "             month  \n",
              "ecoregionID         \n",
              "13.0             5  \n",
              "13.0             5  \n",
              "13.0             6  \n",
              "13.0             7  \n",
              "13.0             6  \n",
              "...            ...  \n",
              "845.0            9  \n",
              "845.0           10  \n",
              "845.0           10  \n",
              "845.0            9  \n",
              "845.0            9  \n",
              "\n",
              "[162348 rows x 5 columns]"
            ]
          },
          "execution_count": 4,
          "metadata": {},
          "output_type": "execute_result"
        }
      ],
      "source": [
        "gbif_ecoregion_gdf = (\n",
        "    ecoregions_gdf\n",
        "    # Match the CRS of the GBIF data and the ecoregions\n",
        "    .to_crs(gbif_gdf.crs)\n",
        "    # Find ecoregion for each observation\n",
        "    .sjoin(\n",
        "        gbif_gdf,\n",
        "        how='inner', #Inner will be best here b/c we want only GBIF observations that have an ecoregion & vice versa\n",
        "        predicate='contains') #Contains is good here because it will identify all gbif points within the ecoregions polygons\n",
        ")\n",
        "gbif_ecoregion_gdf"
      ]
    },
    {
      "cell_type": "markdown",
      "id": "3c6e544c-b550-4833-be00-5cbc5d3f835e",
      "metadata": {},
      "source": [
        "### Count the observations in each ecoregion each month\n",
        "\n",
        "<link rel=\"stylesheet\" type=\"text/css\" href=\"./assets/styles.css\"><div class=\"callout callout-style-default callout-titled callout-task\"><div class=\"callout-header\"><div class=\"callout-icon-container\"><i class=\"callout-icon\"></i></div><div class=\"callout-title-container flex-fill\">Try It: Group observations by ecoregion</div></div><div class=\"callout-body-container callout-body\"><ol type=\"1\">\n",
        "<li>Replace <code>columns_to_group_by</code> with a list of columns.\n",
        "Keep in mind that you will end up with one row for each group – you want\n",
        "to count the observations in each ecoregion by month.</li>\n",
        "<li>Select only month/ecosystem combinations that have more than one\n",
        "occurrence recorded, since a single occurrence could be an error.</li>\n",
        "<li>Use the <code>.groupby()</code> and <code>.mean()</code> methods to\n",
        "compute the mean occurrences by ecoregion and by month.</li>\n",
        "<li>Run the code – it will normalize the number of occurrences by month\n",
        "and ecoretion.</li>\n",
        "</ol></div></div>"
      ]
    },
    {
      "cell_type": "code",
      "execution_count": 5,
      "id": "9e6e87ec",
      "metadata": {},
      "outputs": [
        {
          "name": "stdout",
          "output_type": "stream",
          "text": [
            "Index(['name', 'area', 'geometry', 'gbifID', 'month'], dtype='object')\n",
            "Index(['ecoregionID', 'name', 'area', 'geometry', 'gbifID', 'month'], dtype='object')\n"
          ]
        }
      ],
      "source": [
        "print(gbif_ecoregion_gdf.columns)\n",
        "gbif_ecoregion_gdf = gbif_ecoregion_gdf.reset_index()\n",
        "print(gbif_ecoregion_gdf.columns)"
      ]
    },
    {
      "cell_type": "code",
      "execution_count": 6,
      "id": "d6294dd9",
      "metadata": {},
      "outputs": [],
      "source": [
        "occurrence_df = (\n",
        "    gbif_ecoregion_gdf\n",
        "    # For each ecoregion, for each month...\n",
        "    .groupby(['ecoregionID', 'month'])\n",
        "    # ...count the number of occurrences\n",
        "    .agg(occurrences=('gbifID', 'count'))\n",
        "    \n",
        ")\n",
        "occurrence_df\n",
        "\n",
        "\n",
        "# Get rid of rare observations (possible misidentification?)\n",
        "occurrence_df = occurrence_df[occurrence_df.occurrences > 1]\n",
        "\n",
        "occurrence_df\n",
        "\n",
        "mean_occurrences_by_ecoregion = (\n",
        "    occurrence_df\n",
        "    # group by ecoregion\n",
        "    .groupby('ecoregionID')\n",
        "    # get mean number of occurrences in each ecoregion\n",
        "    .mean('occurrences')    \n",
        ")\n",
        "\n",
        "# Take the mean by month\n",
        "mean_occurrences_by_month = (\n",
        "    occurrence_df\n",
        "    #group by month \n",
        "    .groupby('month')\n",
        "    #compute the mean occurrences in each month\n",
        "    .mean('occurrences')\n",
        ")\n"
      ]
    },
    {
      "cell_type": "markdown",
      "id": "1296023c-3260-4be2-9e58-e5a1a7a878e9",
      "metadata": {},
      "source": [
        "### Normalize the observations\n",
        "\n",
        "<link rel=\"stylesheet\" type=\"text/css\" href=\"./assets/styles.css\"><div class=\"callout callout-style-default callout-titled callout-task\"><div class=\"callout-header\"><div class=\"callout-icon-container\"><i class=\"callout-icon\"></i></div><div class=\"callout-title-container flex-fill\">Try It: Normalize</div></div><div class=\"callout-body-container callout-body\"><ol type=\"1\">\n",
        "<li>Divide occurrences by the mean occurrences by month AND the mean\n",
        "occurrences by ecoregion</li>\n",
        "</ol></div></div>"
      ]
    },
    {
      "cell_type": "code",
      "execution_count": 7,
      "id": "ee2125ce",
      "metadata": {
        "template": "student"
      },
      "outputs": [
        {
          "data": {
            "application/vnd.microsoft.datawrangler.viewer.v0+json": {
              "columns": [
                {
                  "name": "('ecoregionID', 'month')",
                  "rawType": "object",
                  "type": "unknown"
                },
                {
                  "name": "occurrences",
                  "rawType": "int64",
                  "type": "integer"
                },
                {
                  "name": "norm_occurrences",
                  "rawType": "float64",
                  "type": "float"
                }
              ],
              "ref": "6dfd5040-e31c-4ac2-b6f7-9fc402f8841c",
              "rows": [
                [
                  "(np.float64(13.0), np.int64(5))",
                  "2",
                  "0.0008155366645932683"
                ],
                [
                  "(np.float64(13.0), np.int64(6))",
                  "2",
                  "0.0009182325143893754"
                ],
                [
                  "(np.float64(13.0), np.int64(7))",
                  "2",
                  "0.0017604044416358218"
                ],
                [
                  "(np.float64(17.0), np.int64(4))",
                  "2",
                  "9.612268244763772e-06"
                ],
                [
                  "(np.float64(17.0), np.int64(5))",
                  "3023",
                  "0.001700644288617234"
                ],
                [
                  "(np.float64(17.0), np.int64(6))",
                  "3242",
                  "0.002053513321441956"
                ],
                [
                  "(np.float64(17.0), np.int64(7))",
                  "1823",
                  "0.0022137622192012667"
                ],
                [
                  "(np.float64(17.0), np.int64(8))",
                  "465",
                  "0.001914233157047597"
                ],
                [
                  "(np.float64(17.0), np.int64(9))",
                  "143",
                  "0.00036336253577567404"
                ],
                [
                  "(np.float64(23.0), np.int64(10))",
                  "3",
                  "0.029695619896065333"
                ],
                [
                  "(np.float64(33.0), np.int64(4))",
                  "103",
                  "0.0007531361085472359"
                ],
                [
                  "(np.float64(33.0), np.int64(5))",
                  "2936",
                  "0.002512879989613321"
                ],
                [
                  "(np.float64(33.0), np.int64(6))",
                  "1998",
                  "0.0019253972932908254"
                ],
                [
                  "(np.float64(33.0), np.int64(7))",
                  "866",
                  "0.0015999357908840107"
                ],
                [
                  "(np.float64(33.0), np.int64(8))",
                  "182",
                  "0.0011398655510954198"
                ],
                [
                  "(np.float64(33.0), np.int64(9))",
                  "531",
                  "0.0020527638468474177"
                ],
                [
                  "(np.float64(33.0), np.int64(10))",
                  "54",
                  "0.0016829001980079004"
                ],
                [
                  "(np.float64(34.0), np.int64(4))",
                  "51",
                  "0.0014327899760889517"
                ],
                [
                  "(np.float64(34.0), np.int64(5))",
                  "823",
                  "0.0027063978829042733"
                ],
                [
                  "(np.float64(34.0), np.int64(6))",
                  "390",
                  "0.0014439946798865178"
                ],
                [
                  "(np.float64(34.0), np.int64(7))",
                  "156",
                  "0.0011073511810289847"
                ],
                [
                  "(np.float64(34.0), np.int64(8))",
                  "64",
                  "0.0015400624349635795"
                ],
                [
                  "(np.float64(34.0), np.int64(9))",
                  "237",
                  "0.0035202128857146435"
                ],
                [
                  "(np.float64(34.0), np.int64(10))",
                  "15",
                  "0.001796106042100726"
                ],
                [
                  "(np.float64(35.0), np.int64(4))",
                  "275",
                  "0.006376057966739519"
                ],
                [
                  "(np.float64(35.0), np.int64(5))",
                  "701",
                  "0.0019024665619962766"
                ],
                [
                  "(np.float64(35.0), np.int64(7))",
                  "2",
                  "1.1716502107393157e-05"
                ],
                [
                  "(np.float64(35.0), np.int64(8))",
                  "23",
                  "0.0004567656057109119"
                ],
                [
                  "(np.float64(35.0), np.int64(9))",
                  "682",
                  "0.008360113266050703"
                ],
                [
                  "(np.float64(35.0), np.int64(10))",
                  "120",
                  "0.011858483818728251"
                ],
                [
                  "(np.float64(39.0), np.int64(1))",
                  "2",
                  "0.10434782608695653"
                ],
                [
                  "(np.float64(39.0), np.int64(11))",
                  "3",
                  "0.17560975609756097"
                ],
                [
                  "(np.float64(50.0), np.int64(4))",
                  "6",
                  "0.00021052250516211764"
                ],
                [
                  "(np.float64(50.0), np.int64(5))",
                  "799",
                  "0.003281508320194352"
                ],
                [
                  "(np.float64(50.0), np.int64(6))",
                  "75",
                  "0.00034681443888807343"
                ],
                [
                  "(np.float64(50.0), np.int64(7))",
                  "30",
                  "0.00026596038326872127"
                ],
                [
                  "(np.float64(50.0), np.int64(8))",
                  "49",
                  "0.0014726154560222788"
                ],
                [
                  "(np.float64(50.0), np.int64(9))",
                  "405",
                  "0.007512950477152206"
                ],
                [
                  "(np.float64(50.0), np.int64(10))",
                  "26",
                  "0.0038882034684056765"
                ],
                [
                  "(np.float64(57.0), np.int64(4))",
                  "233",
                  "0.012757399896502021"
                ],
                [
                  "(np.float64(57.0), np.int64(5))",
                  "230",
                  "0.0014740544821725086"
                ],
                [
                  "(np.float64(57.0), np.int64(9))",
                  "11",
                  "0.00031842499986668813"
                ],
                [
                  "(np.float64(57.0), np.int64(10))",
                  "35",
                  "0.008167753998917775"
                ],
                [
                  "(np.float64(67.0), np.int64(5))",
                  "3",
                  "0.000978643997511922"
                ],
                [
                  "(np.float64(67.0), np.int64(9))",
                  "2",
                  "0.0029468786351298957"
                ],
                [
                  "(np.float64(74.0), np.int64(5))",
                  "30",
                  "0.0006568080520214241"
                ],
                [
                  "(np.float64(74.0), np.int64(6))",
                  "83",
                  "0.0020459945958206218"
                ],
                [
                  "(np.float64(74.0), np.int64(7))",
                  "31",
                  "0.0014650345688781337"
                ],
                [
                  "(np.float64(74.0), np.int64(8))",
                  "5",
                  "0.0008010391859709894"
                ],
                [
                  "(np.float64(83.0), np.int64(5))",
                  "24",
                  "0.0005018687166727805"
                ]
              ],
              "shape": {
                "columns": 2,
                "rows": 309
              }
            },
            "text/html": [
              "<div>\n",
              "<style scoped>\n",
              "    .dataframe tbody tr th:only-of-type {\n",
              "        vertical-align: middle;\n",
              "    }\n",
              "\n",
              "    .dataframe tbody tr th {\n",
              "        vertical-align: top;\n",
              "    }\n",
              "\n",
              "    .dataframe thead th {\n",
              "        text-align: right;\n",
              "    }\n",
              "</style>\n",
              "<table border=\"1\" class=\"dataframe\">\n",
              "  <thead>\n",
              "    <tr style=\"text-align: right;\">\n",
              "      <th></th>\n",
              "      <th></th>\n",
              "      <th>occurrences</th>\n",
              "      <th>norm_occurrences</th>\n",
              "    </tr>\n",
              "    <tr>\n",
              "      <th>ecoregionID</th>\n",
              "      <th>month</th>\n",
              "      <th></th>\n",
              "      <th></th>\n",
              "    </tr>\n",
              "  </thead>\n",
              "  <tbody>\n",
              "    <tr>\n",
              "      <th rowspan=\"3\" valign=\"top\">13.0</th>\n",
              "      <th>5</th>\n",
              "      <td>2</td>\n",
              "      <td>0.000816</td>\n",
              "    </tr>\n",
              "    <tr>\n",
              "      <th>6</th>\n",
              "      <td>2</td>\n",
              "      <td>0.000918</td>\n",
              "    </tr>\n",
              "    <tr>\n",
              "      <th>7</th>\n",
              "      <td>2</td>\n",
              "      <td>0.001760</td>\n",
              "    </tr>\n",
              "    <tr>\n",
              "      <th rowspan=\"2\" valign=\"top\">17.0</th>\n",
              "      <th>4</th>\n",
              "      <td>2</td>\n",
              "      <td>0.000010</td>\n",
              "    </tr>\n",
              "    <tr>\n",
              "      <th>5</th>\n",
              "      <td>3023</td>\n",
              "      <td>0.001701</td>\n",
              "    </tr>\n",
              "    <tr>\n",
              "      <th>...</th>\n",
              "      <th>...</th>\n",
              "      <td>...</td>\n",
              "      <td>...</td>\n",
              "    </tr>\n",
              "    <tr>\n",
              "      <th rowspan=\"3\" valign=\"top\">839.0</th>\n",
              "      <th>7</th>\n",
              "      <td>297</td>\n",
              "      <td>0.002202</td>\n",
              "    </tr>\n",
              "    <tr>\n",
              "      <th>8</th>\n",
              "      <td>40</td>\n",
              "      <td>0.001006</td>\n",
              "    </tr>\n",
              "    <tr>\n",
              "      <th>9</th>\n",
              "      <td>11</td>\n",
              "      <td>0.000171</td>\n",
              "    </tr>\n",
              "    <tr>\n",
              "      <th rowspan=\"2\" valign=\"top\">845.0</th>\n",
              "      <th>9</th>\n",
              "      <td>28</td>\n",
              "      <td>0.005575</td>\n",
              "    </tr>\n",
              "    <tr>\n",
              "      <th>10</th>\n",
              "      <td>9</td>\n",
              "      <td>0.014447</td>\n",
              "    </tr>\n",
              "  </tbody>\n",
              "</table>\n",
              "<p>309 rows × 2 columns</p>\n",
              "</div>"
            ],
            "text/plain": [
              "                   occurrences  norm_occurrences\n",
              "ecoregionID month                               \n",
              "13.0        5                2          0.000816\n",
              "            6                2          0.000918\n",
              "            7                2          0.001760\n",
              "17.0        4                2          0.000010\n",
              "            5             3023          0.001701\n",
              "...                        ...               ...\n",
              "839.0       7              297          0.002202\n",
              "            8               40          0.001006\n",
              "            9               11          0.000171\n",
              "845.0       9               28          0.005575\n",
              "            10               9          0.014447\n",
              "\n",
              "[309 rows x 2 columns]"
            ]
          },
          "execution_count": 7,
          "metadata": {},
          "output_type": "execute_result"
        }
      ],
      "source": [
        "# Normalize by space and time for sampling effort\n",
        "occurrence_df['norm_occurrences'] = (\n",
        "    occurrence_df\n",
        "    / mean_occurrences_by_ecoregion\n",
        "    / mean_occurrences_by_month\n",
        ")\n",
        "occurrence_df"
      ]
    },
    {
      "cell_type": "markdown",
      "id": "f4af789e-4b89-4a6f-a39b-a45651239da4",
      "metadata": {},
      "source": [
        "<link rel=\"stylesheet\" type=\"text/css\" href=\"./assets/styles.css\"><div class=\"callout callout-style-default callout-titled callout-task\"><div class=\"callout-header\"><div class=\"callout-icon-container\"><i class=\"callout-icon\"></i></div><div class=\"callout-title-container flex-fill\">Try It</div></div><div class=\"callout-body-container callout-body\"><p>Make sure to store the new version of your <code>DataFrame</code> for\n",
        "other notebooks!</p>\n",
        "<div id=\"f13606e9\" class=\"cell\" data-execution_count=\"9\">\n",
        "<div class=\"sourceCode\" id=\"cb1\"><pre\n",
        "class=\"sourceCode python cell-code\"><code class=\"sourceCode python\"><span id=\"cb1-1\"><a href=\"#cb1-1\" aria-hidden=\"true\" tabindex=\"-1\"></a><span class=\"op\">%</span>store occurrence_df</span></code></pre></div>\n",
        "</div></div></div>\n",
        "\n",
        "# STEP -1: Wrap up\n",
        "\n",
        "Don’t forget to store your variables so you can use them in other\n",
        "notebooks! Replace `var1` and `var2` with the variable you want to save,\n",
        "separated by spaces."
      ]
    },
    {
      "cell_type": "code",
      "execution_count": 8,
      "id": "b2649d00",
      "metadata": {},
      "outputs": [
        {
          "name": "stdout",
          "output_type": "stream",
          "text": [
            "Stored 'occurrence_df' (DataFrame)\n"
          ]
        }
      ],
      "source": [
        "%store occurrence_df"
      ]
    },
    {
      "cell_type": "markdown",
      "id": "db475433-fdc1-49f8-bc5a-001207943236",
      "metadata": {},
      "source": [
        "Finally, be sure to `Restart` and `Run all` to make sure your notebook\n",
        "works all the way through!"
      ]
    }
  ],
  "metadata": {
    "kernelspec": {
      "display_name": "earth-analytics-python",
      "language": "python",
      "name": "python3"
    },
    "language_info": {
      "codemirror_mode": {
        "name": "ipython",
        "version": 3
      },
      "file_extension": ".py",
      "mimetype": "text/x-python",
      "name": "python",
      "nbconvert_exporter": "python",
      "pygments_lexer": "ipython3",
      "version": "3.11.13"
    }
  },
  "nbformat": 4,
  "nbformat_minor": 5
}
