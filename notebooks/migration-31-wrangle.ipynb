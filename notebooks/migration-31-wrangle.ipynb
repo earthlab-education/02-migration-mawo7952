{
  "cells": [
    {
      "cell_type": "markdown",
      "id": "623c6114-d97b-4eab-9767-3e0722d5f132",
      "metadata": {},
      "source": [
        "# Mapping migration\n",
        "\n",
        "Introduction to vector data operations\n",
        "\n",
        "## STEP 0: Set up\n",
        "\n",
        "To get started on this notebook, you’ll need to restore any variables\n",
        "from previous notebooks to your workspace. To save time and memory, make\n",
        "sure to specify which variables you want to load."
      ]
    },
    {
      "cell_type": "code",
      "execution_count": 8,
      "id": "35178e51",
      "metadata": {},
      "outputs": [],
      "source": [
        "%store -r\n"
      ]
    },
    {
      "cell_type": "code",
      "execution_count": 7,
      "id": "ce4e74f1",
      "metadata": {},
      "outputs": [],
      "source": [
        "# Importing Packages\n",
        "import os\n",
        "import pathlib\n",
        "from pathlib import Path\n",
        "import geopandas as gpd\n",
        "import pandas as pd\n",
        "import earthpy\n",
        "import requests\n",
        "#print(earthpy.__file__)\n",
        "\n",
        "#import importlib.metadata\n",
        "#print(importlib.metadata.version(\"earthpy\"))\n"
      ]
    },
    {
      "cell_type": "markdown",
      "id": "d50e2849",
      "metadata": {},
      "source": [
        "## STEP 1: Create a directory for your data"
      ]
    },
    {
      "cell_type": "markdown",
      "id": "22853886-0864-4f65-871a-4ecfa0b7f104",
      "metadata": {},
      "source": [
        "For this challenge, you will need to download some data to the computer\n",
        "you’re working on. We suggest using the `earthpy` library we develop to\n",
        "manage your downloads, since it encapsulates many best practices as far\n",
        "as:\n",
        "\n",
        "1.  Where to store your data\n",
        "2.  Dealing with archived data like .zip files\n",
        "3.  Avoiding version control problems\n",
        "4.  Making sure your code works cross-platform\n",
        "5.  Avoiding duplicate downloads\n",
        "\n",
        "If you’re working on one of our assignments through GitHub Classroom, it\n",
        "also lets us build in some handy defaults so that you can see your data\n",
        "files while you work.\n",
        "\n",
        "<link rel=\"stylesheet\" type=\"text/css\" href=\"./assets/styles.css\"><div class=\"callout callout-style-default callout-titled callout-task\"><div class=\"callout-header\"><div class=\"callout-icon-container\"><i class=\"callout-icon\"></i></div><div class=\"callout-title-container flex-fill\">Try It: Create a project folder</div></div><div class=\"callout-body-container callout-body\"><p>The code below will help you get started with making a project\n",
        "directory</p>\n",
        "<ol type=\"1\">\n",
        "<li>Replace <code>project_title</code> with the actual project title,\n",
        "Veery Migration 2023</li>\n",
        "<li>Replace <code>'your-project-directory-name-here'</code> with a\n",
        "<strong>descriptive</strong> name</li>\n",
        "<li>The code should have printed out the path to your data files. Check\n",
        "that your data directory exists and has data in it using the terminal or\n",
        "your Finder/File Explorer.</li>\n",
        "</ol></div></div>\n",
        "\n",
        "> **File structure**\n",
        ">\n",
        "> These days, a lot of people find your file by searching for them or\n",
        "> selecting from a `Bookmarks` or `Recents` list. Even if you don’t use\n",
        "> it, your computer also keeps files in a **tree** structure of folders.\n",
        "> Put another way, you can organize and find files by travelling along a\n",
        "> unique **path**, e.g. `My Drive` \\> `Documents` \\>\n",
        "> `My awesome project` \\> `A project file` where each subsequent folder\n",
        "> is **inside** the previous one. This is convenient because all the\n",
        "> files for a project can be in the same place, and both people and\n",
        "> computers can rapidly locate files they want, provided they remember\n",
        "> the path.\n",
        ">\n",
        "> You may notice that when Python prints out a file path like this, the\n",
        "> folder names are **separated** by a `/` or `\\` (depending on your\n",
        "> operating system). This character is called the **file separator**,\n",
        "> and it tells you that the next piece of the path is **inside** the\n",
        "> previous one."
      ]
    },
    {
      "cell_type": "code",
      "execution_count": null,
      "id": "041617cf",
      "metadata": {},
      "outputs": [
        {
          "data": {
            "text/plain": [
              "'C:\\\\Users\\\\matth\\\\earth-analytics\\\\data\\\\migration-data'"
            ]
          },
          "execution_count": 6,
          "metadata": {},
          "output_type": "execute_result"
        }
      ],
      "source": [
        "#project_dir = os.path.join(os.getcwd(), \"earth-analytics\")\n",
        "#os.makedirs(project_dir, exist_ok=True)\n",
        "\n",
        "\n",
        "#this is where i want my data folder to be made \n",
        "# \"C:\\Users\\matth\\Documents\\GitHub\\02-migration-mawo7952\"\n"
      ]
    },
    {
      "cell_type": "code",
      "execution_count": null,
      "id": "2b291a7c",
      "metadata": {},
      "outputs": [
        {
          "name": "stdout",
          "output_type": "stream",
          "text": [
            "Folder created at: c:\\Users\\matth\\Documents\\GitHub\\02-migration-mawo7952\\data\\migration-data\n"
          ]
        }
      ],
      "source": [
        "# This downloaded the data to my repo which then I couldn't commit due to the size of the data. \n",
        "\n",
        "# Path to the parent folder\n",
        "#current_wd = os.getcwd()\n",
        "\n",
        "# Go one level up\n",
        "#parent_folder = os.path.dirname(current_wd)\n",
        "\n",
        "# C:\\Users\\matth\\OneDrive - UCB-O365\\Earth-Data-Science\\Migration-Assignment\\Data\n",
        "# Name of the new folder you want to create\n",
        "#new_folder_name = r\"data\\migration-data\"\n",
        "\n",
        "# Full path for the new folder\n",
        "#data_dir = os.path.join(parent_folder, new_folder_name)\n",
        "\n",
        "# Create the folder (exist_ok=True avoids error if it already exists)\n",
        "#os.makedirs(data_dir, exist_ok=True)\n",
        "\n",
        "#print(f\"Folder created at: {data_dir}\")"
      ]
    },
    {
      "cell_type": "code",
      "execution_count": null,
      "id": "ca1b95be",
      "metadata": {},
      "outputs": [
        {
          "name": "stdout",
          "output_type": "stream",
          "text": [
            "Data will be saved to: C:\\Users\\matth\\Documents\\earth-analytics\\migration-data\n"
          ]
        }
      ],
      "source": [
        "documents_folder = Path.home() / \"Documents\"\n",
        "\n",
        "# Define your data directory inside Documents\n",
        "data_dir = documents_folder / \"earth-analytics\" / \"migration-data\"\n",
        "\n",
        "# Create the directories if they don't exist\n",
        "os.makedirs(data_dir, exist_ok=True)\n",
        "\n",
        "print(f\"Data will be saved to: {data_dir}\")\n",
        "\n",
        "#data_dir = r\"C:\\Users\\matth\\OneDrive - UCB-O365\\Earth-Data-Science\\Migration-Assignment\\Data\"\n",
        "\n"
      ]
    },
    {
      "cell_type": "markdown",
      "id": "30a2cd72-22e5-45b0-b4a7-cc069d7028aa",
      "metadata": {},
      "source": [
        "## STEP 2: Define your study area – the ecoregions of North America\n",
        "\n",
        "Your sample data package included a Shapefile of global **ecoregions**.\n",
        "You should be able to see changes in the number of observations of Veery\n",
        "thrush in each ecoregion throughout the year.\n",
        "\n",
        "<link rel=\"stylesheet\" type=\"text/css\" href=\"./assets/styles.css\"><div class=\"callout callout-style-default callout-info\"><div class=\"callout-header\"><div class=\"callout-icon-container\"><i class=\"callout-icon\"></i></div></div><div class=\"callout-body-container callout-body\"><p>You don’t have to use ecoregions to group species observations – you\n",
        "could choose to use political boundaries like countries or states, other\n",
        "natural boundaries like watersheds, or even uniform hexagonal areas as\n",
        "is common in conservation work. We chose ecoregions because we expect\n",
        "the suitability for a species at a particular time of year to be\n",
        "relatively consistent across the region.</p></div></div>\n",
        "\n",
        "<link rel=\"stylesheet\" type=\"text/css\" href=\"./assets/styles.css\"><div class=\"callout callout-style-default callout-titled callout-read\"><div class=\"callout-header\"><div class=\"callout-icon-container\"><i class=\"callout-icon\"></i></div><div class=\"callout-title-container flex-fill\">Read More</div></div><div class=\"callout-body-container callout-body\"><p>The ecoregion data will be available as a <strong>shapefile</strong>.\n",
        "Learn more about shapefiles and vector data in this <a\n",
        "href=\"https://www.earthdatascience.org/courses/intro-to-earth-data-science/file-formats/use-spatial-data/use-vector-data/\">Introduction\n",
        "to Spatial Vector Data File Formats in Open Source Python</a></p></div></div>\n",
        "\n",
        "### Load the ecoregions into Python\n",
        "\n",
        "<link rel=\"stylesheet\" type=\"text/css\" href=\"./assets/styles.css\"><div class=\"callout callout-style-default callout-titled callout-task\"><div class=\"callout-header\"><div class=\"callout-icon-container\"><i class=\"callout-icon\"></i></div><div class=\"callout-title-container flex-fill\">Try It: Load ecoregions into Python</div></div><div class=\"callout-body-container callout-body\"><p>Download and save ecoregion boundaries from the EPA:</p>\n",
        "<ol type=\"1\">\n",
        "<li>Replace <code>a_path</code> with the path your created for your\n",
        "ecoregions file.</li>\n",
        "<li>Make a quick plot with <code>.plot()</code> to make sure the\n",
        "download worked.</li>\n",
        "</ol></div></div>"
      ]
    },
    {
      "cell_type": "code",
      "execution_count": null,
      "id": "8057470a",
      "metadata": {},
      "outputs": [],
      "source": [
        "# Set up the ecoregion boundary URL\n",
        "ecoregions_url = \"https://storage.googleapis.com/teow2016/Ecoregions2017.zip\"\n",
        "\n",
        "# Set up a folder to save the WWF ecoregions shapefile\n",
        "ecoregions_dir = os.path.join(data_dir, 'wwf_ecoregions')\n",
        "os.makedirs(ecoregions_dir, exist_ok=True)\n",
        "\n",
        "# Full path to the shapefile\n",
        "ecoregions_path = os.path.join(ecoregions_dir, 'wwf_ecoregions.shp')\n",
        "\n",
        "# Download and save the shapefile only if it does not already exist\n",
        "if not os.path.exists(ecoregions_path):\n",
        "    print(\"Downloading WWF ecoregions shapefile...\")\n",
        "    ecoregions_gdf = gpd.read_file(ecoregions_url)  # read directly from URL\n",
        "    ecoregions_gdf.to_file(ecoregions_path)         # save locally\n",
        "    print(f\"Saved shapefile to: {ecoregions_path}\")\n",
        "else:\n",
        "    print(f\"Shapefile already exists at: {ecoregions_path}\")"
      ]
    },
    {
      "cell_type": "code",
      "execution_count": 5,
      "id": "a9ef4e55",
      "metadata": {
        "template": "student"
      },
      "outputs": [
        {
          "data": {
            "text/plain": [
              "<Axes: >"
            ]
          },
          "execution_count": 5,
          "metadata": {},
          "output_type": "execute_result"
        },
        {
          "data": {
            "image/png": "[encoded data removed]",
            "text/plain": [
              "<Figure size 640x480 with 1 Axes>"
            ]
          },
          "metadata": {},
          "output_type": "display_data"
        }
      ],
      "source": [
        "\n",
        "\n",
        "# Open up the ecoregions boundaries\n",
        "ecoregions_gdf = (\n",
        "    gpd.read_file(ecoregions_path)\n",
        "    .rename(columns={\n",
        "        'ECO_NAME': 'name',\n",
        "        'SHAPE_AREA': 'area'})\n",
        "    [['name', 'area', 'geometry']]\n",
        ")\n",
        "\n",
        "# Name the index so it will match the other data\n",
        "ecoregions_gdf.index.name = 'ecoregion'\n",
        "\n",
        "# Plot the ecoregions to check download\n",
        "ecoregions_gdf.plot(edgecolor='black', color='skyblue')\n"
      ]
    },
    {
      "cell_type": "markdown",
      "id": "24624552-5f95-4282-9ee8-897b83d2f435",
      "metadata": {},
      "source": [
        "## STEP 3: Load species observation data\n",
        "\n",
        "For this challenge, you will use a database called the [Global\n",
        "Biodiversity Information Facility (GBIF)](https://www.gbif.org/). GBIF\n",
        "is compiled from species observation data all over the world, and\n",
        "includes everything from museum specimens to photos taken by citizen\n",
        "scientists in their backyards. We’ve compiled some sample data in the\n",
        "same format that you will get from GBIF.\n",
        "\n",
        "Let’s start by looking at a little of the raw data."
      ]
    },
    {
      "cell_type": "code",
      "execution_count": null,
      "id": "fd442500",
      "metadata": {},
      "outputs": [],
      "source": [
        "# Set up directories\n",
        "gbif_dir = os.path.join(data_dir, 'gbif_veery')\n",
        "os.makedirs(gbif_dir, exist_ok=True)\n",
        "\n",
        "# Direct CSV download URL\n",
        "gbif_url = \"https://ndownloader.figshare.com/files/58363291\"\n",
        "gbif_csv_path = os.path.join(gbif_dir, 'gbif_veery.csv')\n",
        "\n",
        "# Download CSV only if it doesn't exist\n",
        "if not os.path.exists(gbif_csv_path):\n",
        "    print(\"Downloading GBIF CSV...\")\n",
        "    r = requests.get(gbif_url)\n",
        "    r.raise_for_status()  # raise error if download failed\n",
        "    with open(gbif_csv_path, 'wb') as f:\n",
        "        f.write(r.content)\n",
        "\n",
        "# Read CSV\n",
        "gbif_df = pd.read_csv(gbif_csv_path, delimiter='\\t')\n",
        "gbif_df.head()\n",
        "\n",
        "\n",
        "\n",
        "\n",
        "#  https://figshare.com/ndownloader/files/58363291\n",
        "\n"
      ]
    },
    {
      "cell_type": "markdown",
      "id": "eeac1a9a-079a-45fa-85fd-c3e9ba5b2939",
      "metadata": {},
      "source": [
        "<link rel=\"stylesheet\" type=\"text/css\" href=\"./assets/styles.css\"><div class=\"callout callout-style-default callout-titled callout-task\"><div class=\"callout-header\"><div class=\"callout-icon-container\"><i class=\"callout-icon\"></i></div><div class=\"callout-title-container flex-fill\">Try It: Load GBIF data</div></div><div class=\"callout-body-container callout-body\"><ol type=\"1\">\n",
        "<li>Look at the beginning of the file you downloaded using the code\n",
        "below. What do you think the <strong>delimiter</strong> is?</li>\n",
        "<li>Run the following code cell. What happens?</li>\n",
        "<li>Uncomment and modify the parameters of <code>pd.read_csv()</code>\n",
        "below until your data loads successfully and you have only the columns\n",
        "you want.</li>\n",
        "</ol></div></div>\n",
        "\n",
        "You can use the following code to look at the beginning of your file:"
      ]
    },
    {
      "cell_type": "code",
      "execution_count": 9,
      "id": "07bdf72e",
      "metadata": {
        "template": "student"
      },
      "outputs": [
        {
          "data": {
            "application/vnd.microsoft.datawrangler.viewer.v0+json": {
              "columns": [
                {
                  "name": "gbifID",
                  "rawType": "int64",
                  "type": "integer"
                },
                {
                  "name": "decimalLatitude",
                  "rawType": "float64",
                  "type": "float"
                },
                {
                  "name": "decimalLongitude",
                  "rawType": "float64",
                  "type": "float"
                },
                {
                  "name": "month",
                  "rawType": "int64",
                  "type": "integer"
                }
              ],
              "ref": "a5bba43f-60a1-4092-8eb1-257ac3401afc",
              "rows": [
                [
                  "4158712344",
                  "41.9137",
                  "-82.5092",
                  "5"
                ],
                [
                  "4923515059",
                  "41.852812",
                  "-87.611721",
                  "5"
                ],
                [
                  "4923522410",
                  "41.852812",
                  "-87.611721",
                  "9"
                ],
                [
                  "4923520798",
                  "41.852812",
                  "-87.611721",
                  "5"
                ],
                [
                  "4923520314",
                  "41.880356",
                  "-87.630134",
                  "9"
                ]
              ],
              "shape": {
                "columns": 3,
                "rows": 5
              }
            },
            "text/html": [
              "<div>\n",
              "<style scoped>\n",
              "    .dataframe tbody tr th:only-of-type {\n",
              "        vertical-align: middle;\n",
              "    }\n",
              "\n",
              "    .dataframe tbody tr th {\n",
              "        vertical-align: top;\n",
              "    }\n",
              "\n",
              "    .dataframe thead th {\n",
              "        text-align: right;\n",
              "    }\n",
              "</style>\n",
              "<table border=\"1\" class=\"dataframe\">\n",
              "  <thead>\n",
              "    <tr style=\"text-align: right;\">\n",
              "      <th></th>\n",
              "      <th>decimalLatitude</th>\n",
              "      <th>decimalLongitude</th>\n",
              "      <th>month</th>\n",
              "    </tr>\n",
              "    <tr>\n",
              "      <th>gbifID</th>\n",
              "      <th></th>\n",
              "      <th></th>\n",
              "      <th></th>\n",
              "    </tr>\n",
              "  </thead>\n",
              "  <tbody>\n",
              "    <tr>\n",
              "      <th>4158712344</th>\n",
              "      <td>41.913700</td>\n",
              "      <td>-82.509200</td>\n",
              "      <td>5</td>\n",
              "    </tr>\n",
              "    <tr>\n",
              "      <th>4923515059</th>\n",
              "      <td>41.852812</td>\n",
              "      <td>-87.611721</td>\n",
              "      <td>5</td>\n",
              "    </tr>\n",
              "    <tr>\n",
              "      <th>4923522410</th>\n",
              "      <td>41.852812</td>\n",
              "      <td>-87.611721</td>\n",
              "      <td>9</td>\n",
              "    </tr>\n",
              "    <tr>\n",
              "      <th>4923520798</th>\n",
              "      <td>41.852812</td>\n",
              "      <td>-87.611721</td>\n",
              "      <td>5</td>\n",
              "    </tr>\n",
              "    <tr>\n",
              "      <th>4923520314</th>\n",
              "      <td>41.880356</td>\n",
              "      <td>-87.630134</td>\n",
              "      <td>9</td>\n",
              "    </tr>\n",
              "  </tbody>\n",
              "</table>\n",
              "</div>"
            ],
            "text/plain": [
              "            decimalLatitude  decimalLongitude  month\n",
              "gbifID                                              \n",
              "4158712344        41.913700        -82.509200      5\n",
              "4923515059        41.852812        -87.611721      5\n",
              "4923522410        41.852812        -87.611721      9\n",
              "4923520798        41.852812        -87.611721      5\n",
              "4923520314        41.880356        -87.630134      9"
            ]
          },
          "execution_count": 9,
          "metadata": {},
          "output_type": "execute_result"
        }
      ],
      "source": [
        "# Load the GBIF data\n",
        "gbif_df = pd.read_csv(\n",
        "    gbif_csv_path, \n",
        "    delimiter='\\t',\n",
        "    index_col='gbifID',\n",
        "    usecols=['gbifID', 'decimalLatitude', 'decimalLongitude', 'month']\n",
        ")\n",
        "gbif_df.head()"
      ]
    },
    {
      "cell_type": "markdown",
      "id": "46e0cda1-79b6-472f-ae2a-6ea92306f14f",
      "metadata": {},
      "source": [
        "### Convert the GBIF data to a GeoDataFrame\n",
        "\n",
        "To plot the GBIF data, we need to convert it to a `GeoDataFrame` first.\n",
        "This will make some special geospatial operations from `geopandas`\n",
        "available, such as spatial joins and plotting.\n",
        "\n",
        "<link rel=\"stylesheet\" type=\"text/css\" href=\"./assets/styles.css\"><div class=\"callout callout-style-default callout-titled callout-task\"><div class=\"callout-header\"><div class=\"callout-icon-container\"><i class=\"callout-icon\"></i></div><div class=\"callout-title-container flex-fill\">Try It: Convert `DataFrame` to `GeoDataFrame`</div></div><div class=\"callout-body-container callout-body\"><ol type=\"1\">\n",
        "<li>Replace <code>your_dataframe</code> with the name of the\n",
        "<code>DataFrame</code> you just got from GBIF</li>\n",
        "<li>Replace <code>longitude_column_name</code> and\n",
        "<code>latitude_column_name</code> with column names from your\n",
        "`DataFrame</li>\n",
        "<li>Run the code to get a <code>GeoDataFrame</code> of the GBIF\n",
        "data.</li>\n",
        "</ol></div></div>"
      ]
    },
    {
      "cell_type": "code",
      "execution_count": 10,
      "id": "f3243210",
      "metadata": {
        "template": "student"
      },
      "outputs": [
        {
          "data": {
            "text/html": [
              "<div>\n",
              "<style scoped>\n",
              "    .dataframe tbody tr th:only-of-type {\n",
              "        vertical-align: middle;\n",
              "    }\n",
              "\n",
              "    .dataframe tbody tr th {\n",
              "        vertical-align: top;\n",
              "    }\n",
              "\n",
              "    .dataframe thead th {\n",
              "        text-align: right;\n",
              "    }\n",
              "</style>\n",
              "<table border=\"1\" class=\"dataframe\">\n",
              "  <thead>\n",
              "    <tr style=\"text-align: right;\">\n",
              "      <th></th>\n",
              "      <th>month</th>\n",
              "      <th>geometry</th>\n",
              "    </tr>\n",
              "    <tr>\n",
              "      <th>gbifID</th>\n",
              "      <th></th>\n",
              "      <th></th>\n",
              "    </tr>\n",
              "  </thead>\n",
              "  <tbody>\n",
              "    <tr>\n",
              "      <th>4158712344</th>\n",
              "      <td>5</td>\n",
              "      <td>POINT (-82.5092 41.9137)</td>\n",
              "    </tr>\n",
              "    <tr>\n",
              "      <th>4923515059</th>\n",
              "      <td>5</td>\n",
              "      <td>POINT (-87.61172 41.85281)</td>\n",
              "    </tr>\n",
              "    <tr>\n",
              "      <th>4923522410</th>\n",
              "      <td>9</td>\n",
              "      <td>POINT (-87.61172 41.85281)</td>\n",
              "    </tr>\n",
              "    <tr>\n",
              "      <th>4923520798</th>\n",
              "      <td>5</td>\n",
              "      <td>POINT (-87.61172 41.85281)</td>\n",
              "    </tr>\n",
              "    <tr>\n",
              "      <th>4923520314</th>\n",
              "      <td>9</td>\n",
              "      <td>POINT (-87.63013 41.88036)</td>\n",
              "    </tr>\n",
              "    <tr>\n",
              "      <th>...</th>\n",
              "      <td>...</td>\n",
              "      <td>...</td>\n",
              "    </tr>\n",
              "    <tr>\n",
              "      <th>4423534780</th>\n",
              "      <td>9</td>\n",
              "      <td>POINT (-75.1254 40.0626)</td>\n",
              "    </tr>\n",
              "    <tr>\n",
              "      <th>4524632357</th>\n",
              "      <td>6</td>\n",
              "      <td>POINT (-89.8049 44.6967)</td>\n",
              "    </tr>\n",
              "    <tr>\n",
              "      <th>4173211734</th>\n",
              "      <td>5</td>\n",
              "      <td>POINT (-82.4753 42.0478)</td>\n",
              "    </tr>\n",
              "    <tr>\n",
              "      <th>4173216429</th>\n",
              "      <td>6</td>\n",
              "      <td>POINT (-74.5468 46.1638)</td>\n",
              "    </tr>\n",
              "    <tr>\n",
              "      <th>4423531794</th>\n",
              "      <td>9</td>\n",
              "      <td>POINT (-75.1254 40.0626)</td>\n",
              "    </tr>\n",
              "  </tbody>\n",
              "</table>\n",
              "<p>165614 rows × 2 columns</p>\n",
              "</div>"
            ],
            "text/plain": [
              "            month                    geometry\n",
              "gbifID                                       \n",
              "4158712344      5    POINT (-82.5092 41.9137)\n",
              "4923515059      5  POINT (-87.61172 41.85281)\n",
              "4923522410      9  POINT (-87.61172 41.85281)\n",
              "4923520798      5  POINT (-87.61172 41.85281)\n",
              "4923520314      9  POINT (-87.63013 41.88036)\n",
              "...           ...                         ...\n",
              "4423534780      9    POINT (-75.1254 40.0626)\n",
              "4524632357      6    POINT (-89.8049 44.6967)\n",
              "4173211734      5    POINT (-82.4753 42.0478)\n",
              "4173216429      6    POINT (-74.5468 46.1638)\n",
              "4423531794      9    POINT (-75.1254 40.0626)\n",
              "\n",
              "[165614 rows x 2 columns]"
            ]
          },
          "execution_count": 10,
          "metadata": {},
          "output_type": "execute_result"
        }
      ],
      "source": [
        "gbif_gdf = (\n",
        "    gpd.GeoDataFrame(\n",
        "        gbif_df, \n",
        "        geometry=gpd.points_from_xy(\n",
        "            gbif_df.decimalLongitude, \n",
        "            gbif_df.decimalLatitude), \n",
        "        crs=\"EPSG:4326\")\n",
        "    # Select the desired columns\n",
        "    [['month', 'geometry']]\n",
        ")\n",
        "gbif_gdf "
      ]
    },
    {
      "cell_type": "markdown",
      "id": "ccae587f-e671-48ac-b66d-14e98bebb6d0",
      "metadata": {},
      "source": [
        "<link rel=\"stylesheet\" type=\"text/css\" href=\"./assets/styles.css\"><div class=\"callout callout-style-default callout-titled callout-task\"><div class=\"callout-header\"><div class=\"callout-icon-container\"><i class=\"callout-icon\"></i></div><div class=\"callout-title-container flex-fill\">Try It</div></div><div class=\"callout-body-container callout-body\"><p>Make sure to store the new version of your <code>DataFrame</code> for\n",
        "other notebooks!</p>\n",
        "<div id=\"f1412915\" class=\"cell\" data-execution_count=\"14\">\n",
        "<div class=\"sourceCode\" id=\"cb1\"><pre\n",
        "class=\"sourceCode python cell-code\"><code class=\"sourceCode python\"><span id=\"cb1-1\"><a href=\"#cb1-1\" aria-hidden=\"true\" tabindex=\"-1\"></a><span class=\"op\">%</span>store ecoregions_gdf gbif_gdf</span></code></pre></div>\n",
        "</div></div></div>\n",
        "\n",
        "# STEP -1: Wrap up\n",
        "\n",
        "Don’t forget to store your variables so you can use them in other\n",
        "notebooks! Replace `var1` and `var2` with the variable you want to save,\n",
        "separated by spaces."
      ]
    },
    {
      "cell_type": "code",
      "execution_count": 11,
      "id": "fdce56df",
      "metadata": {},
      "outputs": [
        {
          "name": "stdout",
          "output_type": "stream",
          "text": [
            "Stored 'ecoregions_gdf' (GeoDataFrame)\n",
            "Stored 'gbif_gdf' (GeoDataFrame)\n"
          ]
        }
      ],
      "source": [
        "%store ecoregions_gdf gbif_gdf"
      ]
    },
    {
      "cell_type": "markdown",
      "id": "ed49bfa4-f4e9-4805-8e57-64d01849064e",
      "metadata": {},
      "source": [
        "Finally, be sure to `Restart` and `Run all` to make sure your notebook\n",
        "works all the way through!"
      ]
    }
  ],
  "metadata": {
    "kernelspec": {
      "display_name": "earth-analytics-python",
      "language": "python",
      "name": "python3"
    },
    "language_info": {
      "codemirror_mode": {
        "name": "ipython",
        "version": 3
      },
      "file_extension": ".py",
      "mimetype": "text/x-python",
      "name": "python",
      "nbconvert_exporter": "python",
      "pygments_lexer": "ipython3",
      "version": "3.11.13"
    }
  },
  "nbformat": 4,
  "nbformat_minor": 5
}
