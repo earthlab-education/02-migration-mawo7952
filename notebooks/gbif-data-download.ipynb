{
 "cells": [
  {
   "cell_type": "markdown",
   "id": "5e68a2db",
   "metadata": {},
   "source": [
    "### Steps for downloading GBIF data for another species for your portfolio post\n",
    "\n",
    "#### Step 1: choose a terrestrial species that migrates (and find its scientific/Latin name)\n",
    "\n",
    "#### Step 2: make an account on [gbif.org](<https://www.gbif.org/)>)\n",
    "\n",
    "#### Step 3: Install the pygbif package in your python environment\n",
    "\n",
    "If you're on a Mac, just run this code chunk:"
   ]
  },
  {
   "cell_type": "code",
   "execution_count": null,
   "id": "fb367f5f",
   "metadata": {},
   "outputs": [],
   "source": [
    "%% bash\n",
    "pip install pygbif"
   ]
  },
  {
   "cell_type": "markdown",
   "id": "e177dfe5",
   "metadata": {},
   "source": [
    "If you're on a PC, open Git Bash in the Terminal at the bottom of the Jupyter notebook, and enter this: \n",
    "\n",
    "`pip install pygbif`"
   ]
  },
  {
   "cell_type": "markdown",
   "id": "2aef0dbb",
   "metadata": {},
   "source": [
    "#### Step 4: load the packages you'll need"
   ]
  },
  {
   "cell_type": "code",
   "execution_count": 31,
   "id": "f3b77a0c",
   "metadata": {},
   "outputs": [],
   "source": [
    "import pathlib\n",
    "from pathlib import Path\n",
    "import os\n",
    "import pygbif.occurrences as occ\n",
    "import pygbif.species as species\n",
    "import getpass\n",
    "import glob\n",
    "import time\n",
    "import pandas as pd\n",
    "import zipfile"
   ]
  },
  {
   "cell_type": "markdown",
   "id": "07772f54",
   "metadata": {},
   "source": [
    "#### Step 5: make a folder for your GBIF data\n",
    "You'll need to modify this code to match your folder structure:"
   ]
  },
  {
   "cell_type": "code",
   "execution_count": 12,
   "id": "192ff4c1",
   "metadata": {},
   "outputs": [],
   "source": [
    "### create data directory\n",
    "crane_dir = os.path.join(\n",
    "\n",
    "    ### home directory\n",
    "    pathlib.Path.home(),\n",
    "\n",
    "    ### folder with assignments for this class\n",
    "    'OneDrive - UCB-O365',\n",
    "    'Earth-Data-Science',\n",
    "    'Migration-Assignment',\n",
    "    'Data',\n",
    "    'purple_martins')\n",
    "\n",
    "### make the directory\n",
    "os.makedirs(crane_dir, exist_ok = True)\n",
    "\n",
    "### define directory for gbif data\n",
    "gbif_dir = os.path.join(crane_dir, 'gbif')\n",
    "\n",
    "### make the directory\n",
    "os.makedirs(gbif_dir, exist_ok = True)"
   ]
  },
  {
   "cell_type": "code",
   "execution_count": 13,
   "id": "5ddbcfbc",
   "metadata": {},
   "outputs": [
    {
     "data": {
      "text/plain": [
       "'C:\\\\Users\\\\matth\\\\OneDrive - UCB-O365\\\\Earth-Data-Science\\\\Migration-Assignment\\\\Data\\\\purple_martins\\\\gbif'"
      ]
     },
     "execution_count": 13,
     "metadata": {},
     "output_type": "execute_result"
    }
   ],
   "source": [
    "gbif_dir"
   ]
  },
  {
   "cell_type": "markdown",
   "id": "43ca47a3",
   "metadata": {},
   "source": [
    "#### Step 6: link GBIF to your Jupyter notebook\n",
    "- Change to `reset = True` the first time you run it. When you run it, you'll be prompted to enter your GBIF username, password, and associated email address\n",
    "- Then change it back to `reset = False` so you can re-run the chunk without having to reconnect to GBIF\n",
    "- You don’t need to modify this code chunk in any other way\n"
   ]
  },
  {
   "cell_type": "code",
   "execution_count": null,
   "id": "d86887c7",
   "metadata": {},
   "outputs": [],
   "source": [
    "####--------------------------####\n",
    "#### DO NOT MODIFY THIS CODE! ####\n",
    "####--------------------------####\n",
    "# This code ASKS for your credentials \n",
    "# and saves it for the rest of the session.\n",
    "# NEVER put your credentials into your code!!!!\n",
    "\n",
    "# GBIF needs a username, password, and email \n",
    "# All 3 need to match the account\n",
    "reset = False\n",
    "\n",
    "# Request and store username\n",
    "if (not ('GBIF_USER'  in os.environ)) or reset:\n",
    "    os.environ['GBIF_USER'] = input('GBIF username:')\n",
    "\n",
    "# Securely request and store password\n",
    "if (not ('GBIF_PWD'  in os.environ)) or reset:\n",
    "    os.environ['GBIF_PWD'] = getpass.getpass('GBIF password:')\n",
    "    \n",
    "# Request and store account email address\n",
    "if (not ('GBIF_EMAIL'  in os.environ)) or reset:\n",
    "    os.environ['GBIF_EMAIL'] = input('GBIF email:')"
   ]
  },
  {
   "cell_type": "markdown",
   "id": "3ba6fd5b",
   "metadata": {},
   "source": [
    "#### Step 7: Get the species key for your species from GBIF using the `name_backbone` command\n",
    "You'll need to modify this code with the scientific name of your species"
   ]
  },
  {
   "cell_type": "code",
   "execution_count": 20,
   "id": "f9e1b0f5",
   "metadata": {},
   "outputs": [
    {
     "data": {
      "text/plain": [
       "{'usageKey': 2489129,\n",
       " 'scientificName': 'Progne subis (Linnaeus, 1758)',\n",
       " 'canonicalName': 'Progne subis',\n",
       " 'rank': 'SPECIES',\n",
       " 'status': 'ACCEPTED',\n",
       " 'confidence': 99,\n",
       " 'matchType': 'EXACT',\n",
       " 'kingdom': 'Animalia',\n",
       " 'phylum': 'Chordata',\n",
       " 'order': 'Passeriformes',\n",
       " 'family': 'Hirundinidae',\n",
       " 'genus': 'Progne',\n",
       " 'species': 'Progne subis',\n",
       " 'kingdomKey': 1,\n",
       " 'phylumKey': 44,\n",
       " 'classKey': 212,\n",
       " 'orderKey': 729,\n",
       " 'familyKey': 5248,\n",
       " 'genusKey': 2489127,\n",
       " 'speciesKey': 2489129,\n",
       " 'class': 'Aves'}"
      ]
     },
     "execution_count": 20,
     "metadata": {},
     "output_type": "execute_result"
    }
   ],
   "source": [
    "### grab the species info\n",
    "backbone = species.name_backbone(name = 'Progne subis')\n",
    "\n",
    "### check it out\n",
    "backbone\n",
    "\n"
   ]
  },
  {
   "cell_type": "code",
   "execution_count": 21,
   "id": "c7661693",
   "metadata": {},
   "outputs": [
    {
     "data": {
      "text/plain": [
       "2489129"
      ]
     },
     "execution_count": 21,
     "metadata": {},
     "output_type": "execute_result"
    }
   ],
   "source": [
    "### pull out the species key\n",
    "species_key = backbone['usageKey']\n",
    "\n",
    "### check it out\n",
    "species_key"
   ]
  },
  {
   "cell_type": "markdown",
   "id": "032e677e",
   "metadata": {},
   "source": [
    "#### Step 8: Run this code to download the GBIF data once\n",
    "It might take several minutes for the data to download\n",
    "\n",
    "Modify this code to update the year if you want data for a different year, and to use the correct data_dir for your file structure (my code says \"gbif_dir\")"
   ]
  },
  {
   "cell_type": "code",
   "execution_count": null,
   "id": "0cc354ce",
   "metadata": {},
   "outputs": [],
   "source": [
    "# Only download once\n",
    "### set file name for download\n",
    "gbif_pattern = os.path.join(gbif_dir, '*.csv')\n",
    "\n",
    "### double check that there isn't already a file that matches this pattern.\n",
    "### if it already exists, skip the whole conditional\n",
    "### and go straight to the line: gbif_path = glob(gbif_pattern)[0]\n",
    "if not glob.glob(gbif_pattern):\n",
    "\n",
    "    ### only submit a download request to GBIF once\n",
    "    ### if GBIF_DOWNLOAD_KEY is not defined in our environment, make the download request\n",
    "    if not 'GBIF_DOWNLOAD_KEY' in os.environ:\n",
    "\n",
    "        ### submit a query to GBIF\n",
    "        gbif_query = occ.download([\n",
    "\n",
    "            ### add your species key here\n",
    "            f\"speciesKey = {species_key}\",\n",
    "\n",
    "            ### filter out results that are missing coordinates\n",
    "            \"hasCoordinate = True\",\n",
    "\n",
    "            ### choose a year to include\n",
    "            \"year = 2024\",\n",
    "        ])\n",
    "        os.environ['GBIF_DOWNLOAD_KEY'] = gbif_query[0]\n",
    "\n",
    "    # Wait for the download to build\n",
    "    download_key = os.environ['GBIF_DOWNLOAD_KEY']\n",
    "\n",
    "    ### use the occurrence command module in pygbif to get the metadata\n",
    "    wait = occ.download_meta(download_key)['status']\n",
    "\n",
    "    ### check if the status of the download = \"SUCCEEDED\"\n",
    "    ### wait and loop through until it finishes\n",
    "    while not wait=='SUCCEEDED':\n",
    "        wait = occ.download_meta(download_key)['status']\n",
    "\n",
    "        ### don't want to re-query the API in the loop too frequently\n",
    "        time.sleep(5)\n",
    "\n",
    "    # Download GBIF data when it's ready\n",
    "    download_info = occ.download_get(\n",
    "        os.environ['GBIF_DOWNLOAD_KEY'], \n",
    "        path=gbif_dir)\n",
    "\n",
    "    # Unzip GBIF data using the zipfile package\n",
    "    with zipfile.ZipFile(download_info['path']) as download_zip:\n",
    "        download_zip.extractall(path=gbif_dir)\n",
    "\n",
    "# Find the extracted .csv file path (take the first result)\n",
    "gbif_path = glob.glob(gbif_pattern)[0]"
   ]
  },
  {
   "cell_type": "markdown",
   "id": "18ad68e7",
   "metadata": {},
   "source": [
    "The GBIF occurrence data should now be in a folder on your computer, saved as a .csv file. You can open it using the code structure we've used before to open .csv files using pandas."
   ]
  },
  {
   "cell_type": "code",
   "execution_count": 35,
   "id": "e0129f5e",
   "metadata": {},
   "outputs": [
    {
     "name": "stderr",
     "output_type": "stream",
     "text": [
      "C:\\Users\\matth\\AppData\\Local\\Temp\\ipykernel_18964\\854206072.py:1: DtypeWarning: Columns (10,14,40,41,43,48) have mixed types. Specify dtype option on import or set low_memory=False.\n",
      "  gbif_df = pd.read_csv(gbif_path, delimiter='\\t')\n"
     ]
    },
    {
     "data": {
      "application/vnd.microsoft.datawrangler.viewer.v0+json": {
       "columns": [
        {
         "name": "index",
         "rawType": "int64",
         "type": "integer"
        },
        {
         "name": "gbifID",
         "rawType": "int64",
         "type": "integer"
        },
        {
         "name": "datasetKey",
         "rawType": "object",
         "type": "string"
        },
        {
         "name": "occurrenceID",
         "rawType": "object",
         "type": "string"
        },
        {
         "name": "kingdom",
         "rawType": "object",
         "type": "string"
        },
        {
         "name": "phylum",
         "rawType": "object",
         "type": "string"
        },
        {
         "name": "class",
         "rawType": "object",
         "type": "string"
        },
        {
         "name": "order",
         "rawType": "object",
         "type": "string"
        },
        {
         "name": "family",
         "rawType": "object",
         "type": "string"
        },
        {
         "name": "genus",
         "rawType": "object",
         "type": "string"
        },
        {
         "name": "species",
         "rawType": "object",
         "type": "string"
        },
        {
         "name": "infraspecificEpithet",
         "rawType": "object",
         "type": "unknown"
        },
        {
         "name": "taxonRank",
         "rawType": "object",
         "type": "string"
        },
        {
         "name": "scientificName",
         "rawType": "object",
         "type": "string"
        },
        {
         "name": "verbatimScientificName",
         "rawType": "object",
         "type": "string"
        },
        {
         "name": "verbatimScientificNameAuthorship",
         "rawType": "object",
         "type": "unknown"
        },
        {
         "name": "countryCode",
         "rawType": "object",
         "type": "string"
        },
        {
         "name": "locality",
         "rawType": "object",
         "type": "string"
        },
        {
         "name": "stateProvince",
         "rawType": "object",
         "type": "string"
        },
        {
         "name": "occurrenceStatus",
         "rawType": "object",
         "type": "string"
        },
        {
         "name": "individualCount",
         "rawType": "float64",
         "type": "float"
        },
        {
         "name": "publishingOrgKey",
         "rawType": "object",
         "type": "string"
        },
        {
         "name": "decimalLatitude",
         "rawType": "float64",
         "type": "float"
        },
        {
         "name": "decimalLongitude",
         "rawType": "float64",
         "type": "float"
        },
        {
         "name": "coordinateUncertaintyInMeters",
         "rawType": "float64",
         "type": "float"
        },
        {
         "name": "coordinatePrecision",
         "rawType": "float64",
         "type": "float"
        },
        {
         "name": "elevation",
         "rawType": "float64",
         "type": "float"
        },
        {
         "name": "elevationAccuracy",
         "rawType": "float64",
         "type": "float"
        },
        {
         "name": "depth",
         "rawType": "float64",
         "type": "float"
        },
        {
         "name": "depthAccuracy",
         "rawType": "float64",
         "type": "float"
        },
        {
         "name": "eventDate",
         "rawType": "object",
         "type": "string"
        },
        {
         "name": "day",
         "rawType": "int64",
         "type": "integer"
        },
        {
         "name": "month",
         "rawType": "int64",
         "type": "integer"
        },
        {
         "name": "year",
         "rawType": "int64",
         "type": "integer"
        },
        {
         "name": "taxonKey",
         "rawType": "int64",
         "type": "integer"
        },
        {
         "name": "speciesKey",
         "rawType": "int64",
         "type": "integer"
        },
        {
         "name": "basisOfRecord",
         "rawType": "object",
         "type": "string"
        },
        {
         "name": "institutionCode",
         "rawType": "object",
         "type": "string"
        },
        {
         "name": "collectionCode",
         "rawType": "object",
         "type": "string"
        },
        {
         "name": "catalogNumber",
         "rawType": "object",
         "type": "string"
        },
        {
         "name": "recordNumber",
         "rawType": "float64",
         "type": "float"
        },
        {
         "name": "identifiedBy",
         "rawType": "object",
         "type": "unknown"
        },
        {
         "name": "dateIdentified",
         "rawType": "object",
         "type": "unknown"
        },
        {
         "name": "license",
         "rawType": "object",
         "type": "string"
        },
        {
         "name": "rightsHolder",
         "rawType": "object",
         "type": "unknown"
        },
        {
         "name": "recordedBy",
         "rawType": "object",
         "type": "string"
        },
        {
         "name": "typeStatus",
         "rawType": "float64",
         "type": "float"
        },
        {
         "name": "establishmentMeans",
         "rawType": "float64",
         "type": "float"
        },
        {
         "name": "lastInterpreted",
         "rawType": "object",
         "type": "string"
        },
        {
         "name": "mediaType",
         "rawType": "object",
         "type": "unknown"
        },
        {
         "name": "issue",
         "rawType": "object",
         "type": "string"
        }
       ],
       "ref": "e59a3266-6ee4-46be-a90b-6636a198776f",
       "rows": [
        [
         "0",
         "5321904726",
         "4fa7b334-ce0d-4e88-aaae-2e0c138d049e",
         "URN:catalog:CLO:EBIRD:OBS2306035416",
         "Animalia",
         "Chordata",
         "Aves",
         "Passeriformes",
         "Hirundinidae",
         "Progne",
         "Progne subis",
         null,
         "SPECIES",
         "Progne subis (Linnaeus, 1758)",
         "Progne subis",
         null,
         "US",
         "Old Hickory Lake--Snow Bunting Peninsula (Old Hickory Pointe)",
         "Tennessee",
         "PRESENT",
         "3.0",
         "e2e717bf-551a-4917-bdc9-4fa0f342c530",
         "36.287647",
         "-86.65737",
         null,
         null,
         null,
         null,
         null,
         null,
         "2024-07-09",
         "9",
         "7",
         "2024",
         "2489129",
         "2489129",
         "HUMAN_OBSERVATION",
         "CLO",
         "EBIRD",
         "OBS2306035416",
         null,
         null,
         null,
         "CC_BY_4_0",
         null,
         "obsr186024",
         null,
         null,
         "2025-10-08T14:29:54.530Z",
         null,
         "CONTINENT_DERIVED_FROM_COORDINATES;TAXON_CONCEPT_ID_NOT_FOUND"
        ],
        [
         "1",
         "5511104165",
         "4fa7b334-ce0d-4e88-aaae-2e0c138d049e",
         "URN:catalog:CLO:EBIRD:OBS2196430608",
         "Animalia",
         "Chordata",
         "Aves",
         "Passeriformes",
         "Hirundinidae",
         "Progne",
         "Progne subis",
         null,
         "SPECIES",
         "Progne subis (Linnaeus, 1758)",
         "Progne subis",
         null,
         "US",
         "Wellfleet Bay Wildlife Sanctuary (Mass Audubon)",
         "Massachusetts",
         "PRESENT",
         "16.0",
         "e2e717bf-551a-4917-bdc9-4fa0f342c530",
         "41.88253",
         "-69.99571",
         null,
         null,
         null,
         null,
         null,
         null,
         "2024-05-27",
         "27",
         "5",
         "2024",
         "2489129",
         "2489129",
         "HUMAN_OBSERVATION",
         "CLO",
         "EBIRD",
         "OBS2196430608",
         null,
         null,
         null,
         "CC_BY_4_0",
         null,
         "obsr1799659",
         null,
         null,
         "2025-10-08T14:29:54.530Z",
         null,
         "CONTINENT_DERIVED_FROM_COORDINATES;TAXON_CONCEPT_ID_NOT_FOUND"
        ],
        [
         "2",
         "5325050824",
         "4fa7b334-ce0d-4e88-aaae-2e0c138d049e",
         "URN:catalog:CLO:EBIRD:OBS2272960429",
         "Animalia",
         "Chordata",
         "Aves",
         "Passeriformes",
         "Hirundinidae",
         "Progne",
         "Progne subis",
         null,
         "SPECIES",
         "Progne subis (Linnaeus, 1758)",
         "Progne subis",
         null,
         "US",
         "Hart Waste Water Treatment Facility",
         "Michigan",
         "PRESENT",
         "1.0",
         "e2e717bf-551a-4917-bdc9-4fa0f342c530",
         "43.69285",
         "-86.3434",
         null,
         null,
         null,
         null,
         null,
         null,
         "2024-06-26",
         "26",
         "6",
         "2024",
         "2489129",
         "2489129",
         "HUMAN_OBSERVATION",
         "CLO",
         "EBIRD",
         "OBS2272960429",
         null,
         null,
         null,
         "CC_BY_4_0",
         null,
         "obsr1020433",
         null,
         null,
         "2025-10-08T14:29:54.530Z",
         null,
         "CONTINENT_DERIVED_FROM_COORDINATES;TAXON_CONCEPT_ID_NOT_FOUND"
        ],
        [
         "3",
         "5592401814",
         "4fa7b334-ce0d-4e88-aaae-2e0c138d049e",
         "URN:catalog:CLO:EBIRD:OBS2332296033",
         "Animalia",
         "Chordata",
         "Aves",
         "Passeriformes",
         "Hirundinidae",
         "Progne",
         "Progne subis",
         null,
         "SPECIES",
         "Progne subis (Linnaeus, 1758)",
         "Progne subis",
         null,
         "US",
         "Third Ave. Fluddles, Keyesport (roadside birding only)",
         "Illinois",
         "PRESENT",
         "1.0",
         "e2e717bf-551a-4917-bdc9-4fa0f342c530",
         "38.78537",
         "-89.317665",
         null,
         null,
         null,
         null,
         null,
         null,
         "2024-07-20",
         "20",
         "7",
         "2024",
         "2489129",
         "2489129",
         "HUMAN_OBSERVATION",
         "CLO",
         "EBIRD",
         "OBS2332296033",
         null,
         null,
         null,
         "CC_BY_4_0",
         null,
         "obsr443672",
         null,
         null,
         "2025-10-08T14:29:54.530Z",
         null,
         "CONTINENT_DERIVED_FROM_COORDINATES;TAXON_CONCEPT_ID_NOT_FOUND"
        ],
        [
         "4",
         "5380403789",
         "4fa7b334-ce0d-4e88-aaae-2e0c138d049e",
         "URN:catalog:CLO:EBIRD:OBS1979138449",
         "Animalia",
         "Chordata",
         "Aves",
         "Passeriformes",
         "Hirundinidae",
         "Progne",
         "Progne subis",
         null,
         "SPECIES",
         "Progne subis (Linnaeus, 1758)",
         "Progne subis",
         null,
         "US",
         "Klerks/Billock yard",
         "Louisiana",
         "PRESENT",
         "2.0",
         "e2e717bf-551a-4917-bdc9-4fa0f342c530",
         "30.3867",
         "-92.182625",
         null,
         null,
         null,
         null,
         null,
         null,
         "2024-03-13",
         "13",
         "3",
         "2024",
         "2489129",
         "2489129",
         "HUMAN_OBSERVATION",
         "CLO",
         "EBIRD",
         "OBS1979138449",
         null,
         null,
         null,
         "CC_BY_4_0",
         null,
         "obsr712111",
         null,
         null,
         "2025-10-08T14:29:54.530Z",
         null,
         "CONTINENT_DERIVED_FROM_COORDINATES;TAXON_CONCEPT_ID_NOT_FOUND"
        ]
       ],
       "shape": {
        "columns": 50,
        "rows": 5
       }
      },
      "text/html": [
       "<div>\n",
       "<style scoped>\n",
       "    .dataframe tbody tr th:only-of-type {\n",
       "        vertical-align: middle;\n",
       "    }\n",
       "\n",
       "    .dataframe tbody tr th {\n",
       "        vertical-align: top;\n",
       "    }\n",
       "\n",
       "    .dataframe thead th {\n",
       "        text-align: right;\n",
       "    }\n",
       "</style>\n",
       "<table border=\"1\" class=\"dataframe\">\n",
       "  <thead>\n",
       "    <tr style=\"text-align: right;\">\n",
       "      <th></th>\n",
       "      <th>gbifID</th>\n",
       "      <th>datasetKey</th>\n",
       "      <th>occurrenceID</th>\n",
       "      <th>kingdom</th>\n",
       "      <th>phylum</th>\n",
       "      <th>class</th>\n",
       "      <th>order</th>\n",
       "      <th>family</th>\n",
       "      <th>genus</th>\n",
       "      <th>species</th>\n",
       "      <th>...</th>\n",
       "      <th>identifiedBy</th>\n",
       "      <th>dateIdentified</th>\n",
       "      <th>license</th>\n",
       "      <th>rightsHolder</th>\n",
       "      <th>recordedBy</th>\n",
       "      <th>typeStatus</th>\n",
       "      <th>establishmentMeans</th>\n",
       "      <th>lastInterpreted</th>\n",
       "      <th>mediaType</th>\n",
       "      <th>issue</th>\n",
       "    </tr>\n",
       "  </thead>\n",
       "  <tbody>\n",
       "    <tr>\n",
       "      <th>0</th>\n",
       "      <td>5321904726</td>\n",
       "      <td>4fa7b334-ce0d-4e88-aaae-2e0c138d049e</td>\n",
       "      <td>URN:catalog:CLO:EBIRD:OBS2306035416</td>\n",
       "      <td>Animalia</td>\n",
       "      <td>Chordata</td>\n",
       "      <td>Aves</td>\n",
       "      <td>Passeriformes</td>\n",
       "      <td>Hirundinidae</td>\n",
       "      <td>Progne</td>\n",
       "      <td>Progne subis</td>\n",
       "      <td>...</td>\n",
       "      <td>NaN</td>\n",
       "      <td>NaN</td>\n",
       "      <td>CC_BY_4_0</td>\n",
       "      <td>NaN</td>\n",
       "      <td>obsr186024</td>\n",
       "      <td>NaN</td>\n",
       "      <td>NaN</td>\n",
       "      <td>2025-10-08T14:29:54.530Z</td>\n",
       "      <td>NaN</td>\n",
       "      <td>CONTINENT_DERIVED_FROM_COORDINATES;TAXON_CONCE...</td>\n",
       "    </tr>\n",
       "    <tr>\n",
       "      <th>1</th>\n",
       "      <td>5511104165</td>\n",
       "      <td>4fa7b334-ce0d-4e88-aaae-2e0c138d049e</td>\n",
       "      <td>URN:catalog:CLO:EBIRD:OBS2196430608</td>\n",
       "      <td>Animalia</td>\n",
       "      <td>Chordata</td>\n",
       "      <td>Aves</td>\n",
       "      <td>Passeriformes</td>\n",
       "      <td>Hirundinidae</td>\n",
       "      <td>Progne</td>\n",
       "      <td>Progne subis</td>\n",
       "      <td>...</td>\n",
       "      <td>NaN</td>\n",
       "      <td>NaN</td>\n",
       "      <td>CC_BY_4_0</td>\n",
       "      <td>NaN</td>\n",
       "      <td>obsr1799659</td>\n",
       "      <td>NaN</td>\n",
       "      <td>NaN</td>\n",
       "      <td>2025-10-08T14:29:54.530Z</td>\n",
       "      <td>NaN</td>\n",
       "      <td>CONTINENT_DERIVED_FROM_COORDINATES;TAXON_CONCE...</td>\n",
       "    </tr>\n",
       "    <tr>\n",
       "      <th>2</th>\n",
       "      <td>5325050824</td>\n",
       "      <td>4fa7b334-ce0d-4e88-aaae-2e0c138d049e</td>\n",
       "      <td>URN:catalog:CLO:EBIRD:OBS2272960429</td>\n",
       "      <td>Animalia</td>\n",
       "      <td>Chordata</td>\n",
       "      <td>Aves</td>\n",
       "      <td>Passeriformes</td>\n",
       "      <td>Hirundinidae</td>\n",
       "      <td>Progne</td>\n",
       "      <td>Progne subis</td>\n",
       "      <td>...</td>\n",
       "      <td>NaN</td>\n",
       "      <td>NaN</td>\n",
       "      <td>CC_BY_4_0</td>\n",
       "      <td>NaN</td>\n",
       "      <td>obsr1020433</td>\n",
       "      <td>NaN</td>\n",
       "      <td>NaN</td>\n",
       "      <td>2025-10-08T14:29:54.530Z</td>\n",
       "      <td>NaN</td>\n",
       "      <td>CONTINENT_DERIVED_FROM_COORDINATES;TAXON_CONCE...</td>\n",
       "    </tr>\n",
       "    <tr>\n",
       "      <th>3</th>\n",
       "      <td>5592401814</td>\n",
       "      <td>4fa7b334-ce0d-4e88-aaae-2e0c138d049e</td>\n",
       "      <td>URN:catalog:CLO:EBIRD:OBS2332296033</td>\n",
       "      <td>Animalia</td>\n",
       "      <td>Chordata</td>\n",
       "      <td>Aves</td>\n",
       "      <td>Passeriformes</td>\n",
       "      <td>Hirundinidae</td>\n",
       "      <td>Progne</td>\n",
       "      <td>Progne subis</td>\n",
       "      <td>...</td>\n",
       "      <td>NaN</td>\n",
       "      <td>NaN</td>\n",
       "      <td>CC_BY_4_0</td>\n",
       "      <td>NaN</td>\n",
       "      <td>obsr443672</td>\n",
       "      <td>NaN</td>\n",
       "      <td>NaN</td>\n",
       "      <td>2025-10-08T14:29:54.530Z</td>\n",
       "      <td>NaN</td>\n",
       "      <td>CONTINENT_DERIVED_FROM_COORDINATES;TAXON_CONCE...</td>\n",
       "    </tr>\n",
       "    <tr>\n",
       "      <th>4</th>\n",
       "      <td>5380403789</td>\n",
       "      <td>4fa7b334-ce0d-4e88-aaae-2e0c138d049e</td>\n",
       "      <td>URN:catalog:CLO:EBIRD:OBS1979138449</td>\n",
       "      <td>Animalia</td>\n",
       "      <td>Chordata</td>\n",
       "      <td>Aves</td>\n",
       "      <td>Passeriformes</td>\n",
       "      <td>Hirundinidae</td>\n",
       "      <td>Progne</td>\n",
       "      <td>Progne subis</td>\n",
       "      <td>...</td>\n",
       "      <td>NaN</td>\n",
       "      <td>NaN</td>\n",
       "      <td>CC_BY_4_0</td>\n",
       "      <td>NaN</td>\n",
       "      <td>obsr712111</td>\n",
       "      <td>NaN</td>\n",
       "      <td>NaN</td>\n",
       "      <td>2025-10-08T14:29:54.530Z</td>\n",
       "      <td>NaN</td>\n",
       "      <td>CONTINENT_DERIVED_FROM_COORDINATES;TAXON_CONCE...</td>\n",
       "    </tr>\n",
       "  </tbody>\n",
       "</table>\n",
       "<p>5 rows × 50 columns</p>\n",
       "</div>"
      ],
      "text/plain": [
       "       gbifID                            datasetKey  \\\n",
       "0  5321904726  4fa7b334-ce0d-4e88-aaae-2e0c138d049e   \n",
       "1  5511104165  4fa7b334-ce0d-4e88-aaae-2e0c138d049e   \n",
       "2  5325050824  4fa7b334-ce0d-4e88-aaae-2e0c138d049e   \n",
       "3  5592401814  4fa7b334-ce0d-4e88-aaae-2e0c138d049e   \n",
       "4  5380403789  4fa7b334-ce0d-4e88-aaae-2e0c138d049e   \n",
       "\n",
       "                          occurrenceID   kingdom    phylum class  \\\n",
       "0  URN:catalog:CLO:EBIRD:OBS2306035416  Animalia  Chordata  Aves   \n",
       "1  URN:catalog:CLO:EBIRD:OBS2196430608  Animalia  Chordata  Aves   \n",
       "2  URN:catalog:CLO:EBIRD:OBS2272960429  Animalia  Chordata  Aves   \n",
       "3  URN:catalog:CLO:EBIRD:OBS2332296033  Animalia  Chordata  Aves   \n",
       "4  URN:catalog:CLO:EBIRD:OBS1979138449  Animalia  Chordata  Aves   \n",
       "\n",
       "           order        family   genus       species  ... identifiedBy  \\\n",
       "0  Passeriformes  Hirundinidae  Progne  Progne subis  ...          NaN   \n",
       "1  Passeriformes  Hirundinidae  Progne  Progne subis  ...          NaN   \n",
       "2  Passeriformes  Hirundinidae  Progne  Progne subis  ...          NaN   \n",
       "3  Passeriformes  Hirundinidae  Progne  Progne subis  ...          NaN   \n",
       "4  Passeriformes  Hirundinidae  Progne  Progne subis  ...          NaN   \n",
       "\n",
       "  dateIdentified    license rightsHolder   recordedBy typeStatus  \\\n",
       "0            NaN  CC_BY_4_0          NaN   obsr186024        NaN   \n",
       "1            NaN  CC_BY_4_0          NaN  obsr1799659        NaN   \n",
       "2            NaN  CC_BY_4_0          NaN  obsr1020433        NaN   \n",
       "3            NaN  CC_BY_4_0          NaN   obsr443672        NaN   \n",
       "4            NaN  CC_BY_4_0          NaN   obsr712111        NaN   \n",
       "\n",
       "  establishmentMeans           lastInterpreted mediaType  \\\n",
       "0                NaN  2025-10-08T14:29:54.530Z       NaN   \n",
       "1                NaN  2025-10-08T14:29:54.530Z       NaN   \n",
       "2                NaN  2025-10-08T14:29:54.530Z       NaN   \n",
       "3                NaN  2025-10-08T14:29:54.530Z       NaN   \n",
       "4                NaN  2025-10-08T14:29:54.530Z       NaN   \n",
       "\n",
       "                                               issue  \n",
       "0  CONTINENT_DERIVED_FROM_COORDINATES;TAXON_CONCE...  \n",
       "1  CONTINENT_DERIVED_FROM_COORDINATES;TAXON_CONCE...  \n",
       "2  CONTINENT_DERIVED_FROM_COORDINATES;TAXON_CONCE...  \n",
       "3  CONTINENT_DERIVED_FROM_COORDINATES;TAXON_CONCE...  \n",
       "4  CONTINENT_DERIVED_FROM_COORDINATES;TAXON_CONCE...  \n",
       "\n",
       "[5 rows x 50 columns]"
      ]
     },
     "execution_count": 35,
     "metadata": {},
     "output_type": "execute_result"
    }
   ],
   "source": [
    "gbif_df = pd.read_csv(gbif_path, delimiter='\\t')\n",
    "gbif_df.head()"
   ]
  },
  {
   "cell_type": "code",
   "execution_count": null,
   "id": "f21fd350",
   "metadata": {},
   "outputs": [],
   "source": [
    "%store gbif_df"
   ]
  }
 ],
 "metadata": {
  "kernelspec": {
   "display_name": "earth-analytics-python",
   "language": "python",
   "name": "python3"
  },
  "language_info": {
   "codemirror_mode": {
    "name": "ipython",
    "version": 3
   },
   "file_extension": ".py",
   "mimetype": "text/x-python",
   "name": "python",
   "nbconvert_exporter": "python",
   "pygments_lexer": "ipython3",
   "version": "3.11.13"
  }
 },
 "nbformat": 4,
 "nbformat_minor": 5
}
